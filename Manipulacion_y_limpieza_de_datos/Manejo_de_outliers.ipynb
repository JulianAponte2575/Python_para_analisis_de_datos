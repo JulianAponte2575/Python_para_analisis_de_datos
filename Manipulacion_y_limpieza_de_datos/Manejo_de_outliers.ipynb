{
 "cells": [
  {
   "cell_type": "markdown",
   "id": "04e6fc8b-5a4f-4d8c-8e09-835f145ff56d",
   "metadata": {},
   "source": [
    "# MANEJO DE VALORES  ATIPICOS\n",
    "\n",
    "Un breve código que explica que hacer con valores attipicos en un Dataframe."
   ]
  },
  {
   "cell_type": "code",
   "execution_count": 10,
   "id": "a662835f-8de4-41bc-b818-0b9e9f40f70b",
   "metadata": {},
   "outputs": [],
   "source": [
    "# IMPORTACIÓN DE LIBRERIAS \n",
    "\n",
    "import pandas as pd\n",
    "import numpy as np\n",
    "import matplotlib.pyplot as plt\n",
    "import seaborn as sns"
   ]
  },
  {
   "cell_type": "code",
   "execution_count": 6,
   "id": "9d065e84-1671-436a-b853-acf9db087a09",
   "metadata": {},
   "outputs": [
    {
     "data": {
      "text/html": [
       "<div>\n",
       "<style scoped>\n",
       "    .dataframe tbody tr th:only-of-type {\n",
       "        vertical-align: middle;\n",
       "    }\n",
       "\n",
       "    .dataframe tbody tr th {\n",
       "        vertical-align: top;\n",
       "    }\n",
       "\n",
       "    .dataframe thead th {\n",
       "        text-align: right;\n",
       "    }\n",
       "</style>\n",
       "<table border=\"1\" class=\"dataframe\">\n",
       "  <thead>\n",
       "    <tr style=\"text-align: right;\">\n",
       "      <th></th>\n",
       "      <th>A</th>\n",
       "      <th>B</th>\n",
       "      <th>C</th>\n",
       "    </tr>\n",
       "  </thead>\n",
       "  <tbody>\n",
       "    <tr>\n",
       "      <th>0</th>\n",
       "      <td>52.483571</td>\n",
       "      <td>32.931298</td>\n",
       "      <td>9.884352</td>\n",
       "    </tr>\n",
       "    <tr>\n",
       "      <th>1</th>\n",
       "      <td>49.308678</td>\n",
       "      <td>29.548447</td>\n",
       "      <td>9.698896</td>\n",
       "    </tr>\n",
       "    <tr>\n",
       "      <th>2</th>\n",
       "      <td>53.238443</td>\n",
       "      <td>30.135056</td>\n",
       "      <td>8.521478</td>\n",
       "    </tr>\n",
       "    <tr>\n",
       "      <th>3</th>\n",
       "      <td>57.615149</td>\n",
       "      <td>27.150504</td>\n",
       "      <td>9.280156</td>\n",
       "    </tr>\n",
       "    <tr>\n",
       "      <th>4</th>\n",
       "      <td>48.829233</td>\n",
       "      <td>28.911235</td>\n",
       "      <td>9.539361</td>\n",
       "    </tr>\n",
       "  </tbody>\n",
       "</table>\n",
       "</div>"
      ],
      "text/plain": [
       "           A          B         C\n",
       "0  52.483571  32.931298  9.884352\n",
       "1  49.308678  29.548447  9.698896\n",
       "2  53.238443  30.135056  8.521478\n",
       "3  57.615149  27.150504  9.280156\n",
       "4  48.829233  28.911235  9.539361"
      ]
     },
     "execution_count": 6,
     "metadata": {},
     "output_type": "execute_result"
    }
   ],
   "source": [
    "# CREACIÓN DEL DATAFRAME CON DATOS ALEATORIOS\n",
    "\n",
    "np.random.seed(42)\n",
    "data = {\n",
    "    'A': np.random.normal(50, 5, 20).tolist() + [100, 101],  # Columna con algunos valores atípicos\n",
    "    'B': np.random.normal(30, 2, 22).tolist(),               # Columna sin atípicos\n",
    "    'C': np.random.normal(10, 1, 22).tolist()                # Columna sin atípicos\n",
    "}\n",
    "\n",
    "df = pd.DataFrame(data)\n",
    "df.head(5)"
   ]
  },
  {
   "cell_type": "code",
   "execution_count": 8,
   "id": "e66d8ac6-9556-48e5-820e-06a65ee8b326",
   "metadata": {},
   "outputs": [
    {
     "data": {
      "text/html": [
       "<div>\n",
       "<style scoped>\n",
       "    .dataframe tbody tr th:only-of-type {\n",
       "        vertical-align: middle;\n",
       "    }\n",
       "\n",
       "    .dataframe tbody tr th {\n",
       "        vertical-align: top;\n",
       "    }\n",
       "\n",
       "    .dataframe thead th {\n",
       "        text-align: right;\n",
       "    }\n",
       "</style>\n",
       "<table border=\"1\" class=\"dataframe\">\n",
       "  <thead>\n",
       "    <tr style=\"text-align: right;\">\n",
       "      <th></th>\n",
       "      <th>A</th>\n",
       "      <th>B</th>\n",
       "      <th>C</th>\n",
       "    </tr>\n",
       "  </thead>\n",
       "  <tbody>\n",
       "    <tr>\n",
       "      <th>count</th>\n",
       "      <td>22.000000</td>\n",
       "      <td>22.000000</td>\n",
       "      <td>22.000000</td>\n",
       "    </tr>\n",
       "    <tr>\n",
       "      <th>mean</th>\n",
       "      <td>53.812279</td>\n",
       "      <td>29.599121</td>\n",
       "      <td>9.799499</td>\n",
       "    </tr>\n",
       "    <tr>\n",
       "      <th>std</th>\n",
       "      <td>15.786856</td>\n",
       "      <td>1.897897</td>\n",
       "      <td>0.824509</td>\n",
       "    </tr>\n",
       "    <tr>\n",
       "      <th>min</th>\n",
       "      <td>40.433599</td>\n",
       "      <td>26.080660</td>\n",
       "      <td>8.236960</td>\n",
       "    </tr>\n",
       "    <tr>\n",
       "      <th>25%</th>\n",
       "      <td>47.304579</td>\n",
       "      <td>28.112580</td>\n",
       "      <td>9.290886</td>\n",
       "    </tr>\n",
       "    <tr>\n",
       "      <th>50%</th>\n",
       "      <td>49.068997</td>\n",
       "      <td>29.760726</td>\n",
       "      <td>9.694842</td>\n",
       "    </tr>\n",
       "    <tr>\n",
       "      <th>75%</th>\n",
       "      <td>53.107032</td>\n",
       "      <td>30.411726</td>\n",
       "      <td>10.340530</td>\n",
       "    </tr>\n",
       "    <tr>\n",
       "      <th>max</th>\n",
       "      <td>101.000000</td>\n",
       "      <td>33.704556</td>\n",
       "      <td>11.057122</td>\n",
       "    </tr>\n",
       "  </tbody>\n",
       "</table>\n",
       "</div>"
      ],
      "text/plain": [
       "                A          B          C\n",
       "count   22.000000  22.000000  22.000000\n",
       "mean    53.812279  29.599121   9.799499\n",
       "std     15.786856   1.897897   0.824509\n",
       "min     40.433599  26.080660   8.236960\n",
       "25%     47.304579  28.112580   9.290886\n",
       "50%     49.068997  29.760726   9.694842\n",
       "75%     53.107032  30.411726  10.340530\n",
       "max    101.000000  33.704556  11.057122"
      ]
     },
     "execution_count": 8,
     "metadata": {},
     "output_type": "execute_result"
    }
   ],
   "source": [
    "# VALIDACIÓN DE ESTADISTICAS \n",
    "\n",
    "df.describe()"
   ]
  },
  {
   "cell_type": "code",
   "execution_count": 20,
   "id": "1994685e-b50e-4be7-886d-566f215f26c7",
   "metadata": {},
   "outputs": [
    {
     "data": {
      "image/png": "[encoded data removed]",
      "text/plain": [
       "<Figure size 1200x300 with 1 Axes>"
      ]
     },
     "metadata": {},
     "output_type": "display_data"
    }
   ],
   "source": [
    "# BOXPLOT COLUMNA A \n",
    "\n",
    "plt.figure(figsize=(12,3))\n",
    "sns.boxplot(df, x=\"A\")\n",
    "plt.title(\"Distribución columna A\");"
   ]
  },
  {
   "cell_type": "markdown",
   "id": "0ff8c1b7-d717-4f50-bf72-f18c43459229",
   "metadata": {},
   "source": [
    "- Hay dos valores átipicos."
   ]
  },
  {
   "cell_type": "markdown",
   "id": "16bf5239-268e-4448-982d-7aa3b43774d8",
   "metadata": {},
   "source": [
    "### PASO 1: Calcular el rango intercuartil (IQR)"
   ]
  },
  {
   "cell_type": "code",
   "execution_count": 28,
   "id": "3cadf4c4-cf99-4ed0-a808-e12777d1fb92",
   "metadata": {},
   "outputs": [
    {
     "data": {
      "text/plain": [
       "(47.30457878292766, 53.107032072360056)"
      ]
     },
     "execution_count": 28,
     "metadata": {},
     "output_type": "execute_result"
    }
   ],
   "source": [
    "# CALCULAR QUARTILES 1 Y 3\n",
    "\n",
    "Q1 = df['A'].quantile(0.25)\n",
    "Q3 = df['A'].quantile(0.75)\n",
    "Q1, Q3"
   ]
  },
  {
   "cell_type": "code",
   "execution_count": 30,
   "id": "4f89da81-7647-4d29-8644-a7e1a1dcc089",
   "metadata": {},
   "outputs": [
    {
     "data": {
      "text/plain": [
       "5.802453289432393"
      ]
     },
     "execution_count": 30,
     "metadata": {},
     "output_type": "execute_result"
    }
   ],
   "source": [
    "# CALCULAR RANGO INTERCUALTIL (IQR)\n",
    "\n",
    "IQR = Q3 - Q1\n",
    "IQR"
   ]
  },
  {
   "cell_type": "code",
   "execution_count": 36,
   "id": "f8dcfa9a-41d6-4dcb-8ae0-991506311239",
   "metadata": {},
   "outputs": [
    {
     "data": {
      "text/plain": [
       "(38.600898848779075, 61.810712006508645)"
      ]
     },
     "execution_count": 36,
     "metadata": {},
     "output_type": "execute_result"
    }
   ],
   "source": [
    "# CÁLCULO DE LIMETES \n",
    "\n",
    "limite_inferior = Q1 - 1.5 * IQR\n",
    "limite_superior = Q3 + 1.5 * IQR\n",
    "limite_inferior, limite_superior"
   ]
  },
  {
   "cell_type": "markdown",
   "id": "3a4c65e9-5307-424b-b274-69673da616e2",
   "metadata": {},
   "source": [
    "### PASO 2: Filtrar los valores atípicos"
   ]
  },
  {
   "cell_type": "code",
   "execution_count": 43,
   "id": "695e1286-f652-4d85-acd6-f0764e5f10a6",
   "metadata": {},
   "outputs": [
    {
     "data": {
      "text/plain": [
       "20    100.0\n",
       "21    101.0\n",
       "Name: A, dtype: float64"
      ]
     },
     "execution_count": 43,
     "metadata": {},
     "output_type": "execute_result"
    }
   ],
   "source": [
    "# FILTRAR LOS VALORES ATIPICOS EN LA COLUMNA A\n",
    "\n",
    "valores_atipicos = df[(df['A'] < limite_inferior) | (df['A'] > limite_superior)]\n",
    "valores_atipicos[\"A\"]"
   ]
  },
  {
   "cell_type": "markdown",
   "id": "4a5bd97f-d029-4f3d-8a65-4fbf808b972d",
   "metadata": {},
   "source": [
    "### PASO 3: REEMPLAZAR O BORRAR VALORES ATIPICOS"
   ]
  },
  {
   "cell_type": "code",
   "execution_count": 47,
   "id": "d1f87969-fa29-44ab-8406-70dd9f605883",
   "metadata": {},
   "outputs": [
    {
     "data": {
      "text/html": [
       "<div>\n",
       "<style scoped>\n",
       "    .dataframe tbody tr th:only-of-type {\n",
       "        vertical-align: middle;\n",
       "    }\n",
       "\n",
       "    .dataframe tbody tr th {\n",
       "        vertical-align: top;\n",
       "    }\n",
       "\n",
       "    .dataframe thead th {\n",
       "        text-align: right;\n",
       "    }\n",
       "</style>\n",
       "<table border=\"1\" class=\"dataframe\">\n",
       "  <thead>\n",
       "    <tr style=\"text-align: right;\">\n",
       "      <th></th>\n",
       "      <th>A</th>\n",
       "      <th>B</th>\n",
       "      <th>C</th>\n",
       "    </tr>\n",
       "  </thead>\n",
       "  <tbody>\n",
       "    <tr>\n",
       "      <th>0</th>\n",
       "      <td>52.483571</td>\n",
       "      <td>32.931298</td>\n",
       "      <td>9.884352</td>\n",
       "    </tr>\n",
       "    <tr>\n",
       "      <th>1</th>\n",
       "      <td>49.308678</td>\n",
       "      <td>29.548447</td>\n",
       "      <td>9.698896</td>\n",
       "    </tr>\n",
       "    <tr>\n",
       "      <th>2</th>\n",
       "      <td>53.238443</td>\n",
       "      <td>30.135056</td>\n",
       "      <td>8.521478</td>\n",
       "    </tr>\n",
       "    <tr>\n",
       "      <th>3</th>\n",
       "      <td>57.615149</td>\n",
       "      <td>27.150504</td>\n",
       "      <td>9.280156</td>\n",
       "    </tr>\n",
       "    <tr>\n",
       "      <th>4</th>\n",
       "      <td>48.829233</td>\n",
       "      <td>28.911235</td>\n",
       "      <td>9.539361</td>\n",
       "    </tr>\n",
       "  </tbody>\n",
       "</table>\n",
       "</div>"
      ],
      "text/plain": [
       "           A          B         C\n",
       "0  52.483571  32.931298  9.884352\n",
       "1  49.308678  29.548447  9.698896\n",
       "2  53.238443  30.135056  8.521478\n",
       "3  57.615149  27.150504  9.280156\n",
       "4  48.829233  28.911235  9.539361"
      ]
     },
     "execution_count": 47,
     "metadata": {},
     "output_type": "execute_result"
    }
   ],
   "source": [
    "# REEMPLZAMOS LOS ATIPICOS CON LIMITE SUPERIOR\n",
    "\n",
    "\n",
    "df['A'] = df['A'].apply(lambda x: limite_superior if (x < limite_inferior) or (x > limite_superior) else x)\n",
    "df.head(5)"
   ]
  },
  {
   "cell_type": "code",
   "execution_count": 49,
   "id": "e1ba756e-40d9-4ed1-b5c6-764f6706e88a",
   "metadata": {},
   "outputs": [
    {
     "data": {
      "image/png": "[encoded data removed]",
      "text/plain": [
       "<Figure size 1200x300 with 1 Axes>"
      ]
     },
     "metadata": {},
     "output_type": "display_data"
    }
   ],
   "source": [
    "# NUEVAMENTE GRPAFICAMOS EL BOXPLOT\n",
    "\n",
    "plt.figure(figsize=(12,3))\n",
    "sns.boxplot(df, x=\"A\")\n",
    "plt.title(\"Distribución columna A\");"
   ]
  },
  {
   "cell_type": "markdown",
   "id": "247c3aad-e6a0-420e-a6b3-7cc73dc8102c",
   "metadata": {},
   "source": [
    "- Ya no hay valores átipicos. "
   ]
  },
  {
   "cell_type": "code",
   "execution_count": null,
   "id": "339a24b9-082e-4e5f-bc15-2ef152fb1ac5",
   "metadata": {},
   "outputs": [],
   "source": []
  }
 ],
 "metadata": {
  "kernelspec": {
   "display_name": "Python 3 (ipykernel)",
   "language": "python",
   "name": "python3"
  },
  "language_info": {
   "codemirror_mode": {
    "name": "ipython",
    "version": 3
   },
   "file_extension": ".py",
   "mimetype": "text/x-python",
   "name": "python",
   "nbconvert_exporter": "python",
   "pygments_lexer": "ipython3",
   "version": "3.12.4"
  }
 },
 "nbformat": 4,
 "nbformat_minor": 5
}
