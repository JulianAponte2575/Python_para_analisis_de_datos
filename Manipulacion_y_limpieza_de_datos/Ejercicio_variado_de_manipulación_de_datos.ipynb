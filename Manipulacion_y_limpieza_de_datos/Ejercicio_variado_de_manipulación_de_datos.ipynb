{
 "cells": [
  {
   "cell_type": "markdown",
   "id": "a100b128-4028-42f2-9205-59124df23bd2",
   "metadata": {},
   "source": [
    "# EJERCICIO VARIADO DE MANIPULACIÓN DE DATOS\n",
    "\n",
    "En el presente cuadero se mostrará como hacer distintos cálculos, filtros de datos, gráficos y otros aspectos importantes que hace un analista de datos. Se usaran los populares datasets de Kaggle de videojuegos y del Titanic."
   ]
  },
  {
   "cell_type": "code",
   "execution_count": 3,
   "id": "e86cf3c5-b5e2-41a8-bc63-a448c48fd42d",
   "metadata": {},
   "outputs": [],
   "source": [
    "# IMPORTACIÓN DE LIBRERIAS \n",
    "\n",
    "import pandas as pd \n",
    "import matplotlib.pyplot as plt "
   ]
  },
  {
   "cell_type": "code",
   "execution_count": 46,
   "id": "e7f72b4c-b1ae-4e31-a386-53d8522de6c4",
   "metadata": {},
   "outputs": [
    {
     "data": {
      "text/html": [
       "<div>\n",
       "<style scoped>\n",
       "    .dataframe tbody tr th:only-of-type {\n",
       "        vertical-align: middle;\n",
       "    }\n",
       "\n",
       "    .dataframe tbody tr th {\n",
       "        vertical-align: top;\n",
       "    }\n",
       "\n",
       "    .dataframe thead th {\n",
       "        text-align: right;\n",
       "    }\n",
       "</style>\n",
       "<table border=\"1\" class=\"dataframe\">\n",
       "  <thead>\n",
       "    <tr style=\"text-align: right;\">\n",
       "      <th></th>\n",
       "      <th>PassengerId</th>\n",
       "      <th>Survived</th>\n",
       "      <th>Pclass</th>\n",
       "      <th>Name</th>\n",
       "      <th>Sex</th>\n",
       "      <th>Age</th>\n",
       "      <th>SibSp</th>\n",
       "      <th>Parch</th>\n",
       "      <th>Ticket</th>\n",
       "      <th>Fare</th>\n",
       "      <th>Cabin</th>\n",
       "      <th>Embarked</th>\n",
       "    </tr>\n",
       "  </thead>\n",
       "  <tbody>\n",
       "    <tr>\n",
       "      <th>0</th>\n",
       "      <td>1</td>\n",
       "      <td>0</td>\n",
       "      <td>3</td>\n",
       "      <td>Braund, Mr. Owen Harris</td>\n",
       "      <td>male</td>\n",
       "      <td>22.0</td>\n",
       "      <td>1</td>\n",
       "      <td>0</td>\n",
       "      <td>A/5 21171</td>\n",
       "      <td>7.2500</td>\n",
       "      <td>NaN</td>\n",
       "      <td>S</td>\n",
       "    </tr>\n",
       "    <tr>\n",
       "      <th>1</th>\n",
       "      <td>2</td>\n",
       "      <td>1</td>\n",
       "      <td>1</td>\n",
       "      <td>Cumings, Mrs. John Bradley (Florence Briggs Th...</td>\n",
       "      <td>female</td>\n",
       "      <td>38.0</td>\n",
       "      <td>1</td>\n",
       "      <td>0</td>\n",
       "      <td>PC 17599</td>\n",
       "      <td>71.2833</td>\n",
       "      <td>C85</td>\n",
       "      <td>C</td>\n",
       "    </tr>\n",
       "    <tr>\n",
       "      <th>2</th>\n",
       "      <td>3</td>\n",
       "      <td>1</td>\n",
       "      <td>3</td>\n",
       "      <td>Heikkinen, Miss. Laina</td>\n",
       "      <td>female</td>\n",
       "      <td>26.0</td>\n",
       "      <td>0</td>\n",
       "      <td>0</td>\n",
       "      <td>STON/O2. 3101282</td>\n",
       "      <td>7.9250</td>\n",
       "      <td>NaN</td>\n",
       "      <td>S</td>\n",
       "    </tr>\n",
       "    <tr>\n",
       "      <th>3</th>\n",
       "      <td>4</td>\n",
       "      <td>1</td>\n",
       "      <td>1</td>\n",
       "      <td>Futrelle, Mrs. Jacques Heath (Lily May Peel)</td>\n",
       "      <td>female</td>\n",
       "      <td>35.0</td>\n",
       "      <td>1</td>\n",
       "      <td>0</td>\n",
       "      <td>113803</td>\n",
       "      <td>53.1000</td>\n",
       "      <td>C123</td>\n",
       "      <td>S</td>\n",
       "    </tr>\n",
       "    <tr>\n",
       "      <th>4</th>\n",
       "      <td>5</td>\n",
       "      <td>0</td>\n",
       "      <td>3</td>\n",
       "      <td>Allen, Mr. William Henry</td>\n",
       "      <td>male</td>\n",
       "      <td>35.0</td>\n",
       "      <td>0</td>\n",
       "      <td>0</td>\n",
       "      <td>373450</td>\n",
       "      <td>8.0500</td>\n",
       "      <td>NaN</td>\n",
       "      <td>S</td>\n",
       "    </tr>\n",
       "    <tr>\n",
       "      <th>...</th>\n",
       "      <td>...</td>\n",
       "      <td>...</td>\n",
       "      <td>...</td>\n",
       "      <td>...</td>\n",
       "      <td>...</td>\n",
       "      <td>...</td>\n",
       "      <td>...</td>\n",
       "      <td>...</td>\n",
       "      <td>...</td>\n",
       "      <td>...</td>\n",
       "      <td>...</td>\n",
       "      <td>...</td>\n",
       "    </tr>\n",
       "    <tr>\n",
       "      <th>886</th>\n",
       "      <td>887</td>\n",
       "      <td>0</td>\n",
       "      <td>2</td>\n",
       "      <td>Montvila, Rev. Juozas</td>\n",
       "      <td>male</td>\n",
       "      <td>27.0</td>\n",
       "      <td>0</td>\n",
       "      <td>0</td>\n",
       "      <td>211536</td>\n",
       "      <td>13.0000</td>\n",
       "      <td>NaN</td>\n",
       "      <td>S</td>\n",
       "    </tr>\n",
       "    <tr>\n",
       "      <th>887</th>\n",
       "      <td>888</td>\n",
       "      <td>1</td>\n",
       "      <td>1</td>\n",
       "      <td>Graham, Miss. Margaret Edith</td>\n",
       "      <td>female</td>\n",
       "      <td>19.0</td>\n",
       "      <td>0</td>\n",
       "      <td>0</td>\n",
       "      <td>112053</td>\n",
       "      <td>30.0000</td>\n",
       "      <td>B42</td>\n",
       "      <td>S</td>\n",
       "    </tr>\n",
       "    <tr>\n",
       "      <th>888</th>\n",
       "      <td>889</td>\n",
       "      <td>0</td>\n",
       "      <td>3</td>\n",
       "      <td>Johnston, Miss. Catherine Helen \"Carrie\"</td>\n",
       "      <td>female</td>\n",
       "      <td>NaN</td>\n",
       "      <td>1</td>\n",
       "      <td>2</td>\n",
       "      <td>W./C. 6607</td>\n",
       "      <td>23.4500</td>\n",
       "      <td>NaN</td>\n",
       "      <td>S</td>\n",
       "    </tr>\n",
       "    <tr>\n",
       "      <th>889</th>\n",
       "      <td>890</td>\n",
       "      <td>1</td>\n",
       "      <td>1</td>\n",
       "      <td>Behr, Mr. Karl Howell</td>\n",
       "      <td>male</td>\n",
       "      <td>26.0</td>\n",
       "      <td>0</td>\n",
       "      <td>0</td>\n",
       "      <td>111369</td>\n",
       "      <td>30.0000</td>\n",
       "      <td>C148</td>\n",
       "      <td>C</td>\n",
       "    </tr>\n",
       "    <tr>\n",
       "      <th>890</th>\n",
       "      <td>891</td>\n",
       "      <td>0</td>\n",
       "      <td>3</td>\n",
       "      <td>Dooley, Mr. Patrick</td>\n",
       "      <td>male</td>\n",
       "      <td>32.0</td>\n",
       "      <td>0</td>\n",
       "      <td>0</td>\n",
       "      <td>370376</td>\n",
       "      <td>7.7500</td>\n",
       "      <td>NaN</td>\n",
       "      <td>Q</td>\n",
       "    </tr>\n",
       "  </tbody>\n",
       "</table>\n",
       "<p>891 rows × 12 columns</p>\n",
       "</div>"
      ],
      "text/plain": [
       "     PassengerId  Survived  Pclass  \\\n",
       "0              1         0       3   \n",
       "1              2         1       1   \n",
       "2              3         1       3   \n",
       "3              4         1       1   \n",
       "4              5         0       3   \n",
       "..           ...       ...     ...   \n",
       "886          887         0       2   \n",
       "887          888         1       1   \n",
       "888          889         0       3   \n",
       "889          890         1       1   \n",
       "890          891         0       3   \n",
       "\n",
       "                                                  Name     Sex   Age  SibSp  \\\n",
       "0                              Braund, Mr. Owen Harris    male  22.0      1   \n",
       "1    Cumings, Mrs. John Bradley (Florence Briggs Th...  female  38.0      1   \n",
       "2                               Heikkinen, Miss. Laina  female  26.0      0   \n",
       "3         Futrelle, Mrs. Jacques Heath (Lily May Peel)  female  35.0      1   \n",
       "4                             Allen, Mr. William Henry    male  35.0      0   \n",
       "..                                                 ...     ...   ...    ...   \n",
       "886                              Montvila, Rev. Juozas    male  27.0      0   \n",
       "887                       Graham, Miss. Margaret Edith  female  19.0      0   \n",
       "888           Johnston, Miss. Catherine Helen \"Carrie\"  female   NaN      1   \n",
       "889                              Behr, Mr. Karl Howell    male  26.0      0   \n",
       "890                                Dooley, Mr. Patrick    male  32.0      0   \n",
       "\n",
       "     Parch            Ticket     Fare Cabin Embarked  \n",
       "0        0         A/5 21171   7.2500   NaN        S  \n",
       "1        0          PC 17599  71.2833   C85        C  \n",
       "2        0  STON/O2. 3101282   7.9250   NaN        S  \n",
       "3        0            113803  53.1000  C123        S  \n",
       "4        0            373450   8.0500   NaN        S  \n",
       "..     ...               ...      ...   ...      ...  \n",
       "886      0            211536  13.0000   NaN        S  \n",
       "887      0            112053  30.0000   B42        S  \n",
       "888      2        W./C. 6607  23.4500   NaN        S  \n",
       "889      0            111369  30.0000  C148        C  \n",
       "890      0            370376   7.7500   NaN        Q  \n",
       "\n",
       "[891 rows x 12 columns]"
      ]
     },
     "execution_count": 46,
     "metadata": {},
     "output_type": "execute_result"
    }
   ],
   "source": [
    "# CARGA Y LECTURA DE LOS ARCHIVOS\n",
    "\n",
    "ruta = \"C:/Users/Julian/Documents/Ejecicios del botcamp/titanic.csv\"\n",
    "ruta_1 = \"C:/Users/Julian/Documents/Ejecicios del botcamp/Ventas_Videojuegos.xlsx\"\n",
    "\n",
    "df_titanic = pd.read_csv(ruta)\n",
    "df_juegos = pd.read_excel(ruta_1)\n",
    "df_titanic"
   ]
  },
  {
   "cell_type": "code",
   "execution_count": 9,
   "id": "a9a4d709-07d6-4869-8180-c9ebfc63d795",
   "metadata": {},
   "outputs": [
    {
     "data": {
      "text/plain": [
       "577"
      ]
     },
     "execution_count": 9,
     "metadata": {},
     "output_type": "execute_result"
    }
   ],
   "source": [
    "# CONTEO DE HOMBRES EN EL TITANIC \n",
    "\n",
    "conteo_hombres = df_titanic[df_titanic[\"Sex\"] == \"male\"][\"Sex\"].count()\n",
    "conteo_hombres"
   ]
  },
  {
   "cell_type": "code",
   "execution_count": 15,
   "id": "b3eff496-f2f2-45c9-8ed7-e23e5fea8bca",
   "metadata": {},
   "outputs": [
    {
     "data": {
      "text/plain": [
       "314"
      ]
     },
     "execution_count": 15,
     "metadata": {},
     "output_type": "execute_result"
    }
   ],
   "source": [
    "# CONTEO DE MUJERES EN EL TITANIC \n",
    "\n",
    "\n",
    "conteo_mujeres = df_titanic[df_titanic[\"Sex\"] == \"female\"][\"Sex\"].count()\n",
    "conteo_mujeres"
   ]
  },
  {
   "cell_type": "code",
   "execution_count": 19,
   "id": "e0cad2d4-7850-4eaa-ade9-7a03bb4ac2a1",
   "metadata": {},
   "outputs": [
    {
     "data": {
      "text/plain": [
       "Sex\n",
       "female    35.241302\n",
       "male      64.758698\n",
       "Name: Sex, dtype: float64"
      ]
     },
     "execution_count": 19,
     "metadata": {},
     "output_type": "execute_result"
    }
   ],
   "source": [
    "# PROPORCIÓN DE HOMBRES Y MUJERES DEL BARCO\n",
    "\n",
    "proporcion = df_titanic.groupby(\"Sex\")[\"Sex\"].count() \n",
    "proporcion = proporcion / len(df_titanic) * 100\n",
    "proporcion "
   ]
  },
  {
   "cell_type": "code",
   "execution_count": 24,
   "id": "e816f98d-6c65-4e99-8674-d78fc4b89683",
   "metadata": {},
   "outputs": [],
   "source": [
    "# CONTEO DE HOMBRES MAYORES DE 30, MENORES A 18 Y MAYORES A 50 \n",
    "\n",
    "mayores_30 = df_titanic[(df_titanic[\"Sex\"] == \"male\") & (df_titanic[\"Age\"] > 30)][\"Name\"].count()\n",
    "menores_18 = df_titanic[(df_titanic[\"Sex\"] == \"male\") & (df_titanic[\"Age\"] < 18)][\"Name\"].count()\n",
    "mayores_50 = df_titanic[(df_titanic[\"Sex\"] == \"male\") & (df_titanic[\"Age\"] > 50)][\"Name\"].count()"
   ]
  },
  {
   "cell_type": "code",
   "execution_count": 26,
   "id": "9416079a-48d2-45a7-ab6d-397bd5b7b7d2",
   "metadata": {},
   "outputs": [
    {
     "data": {
      "image/png": "[encoded data removed]",
      "text/plain": [
       "<Figure size 640x480 with 1 Axes>"
      ]
     },
     "metadata": {},
     "output_type": "display_data"
    }
   ],
   "source": [
    "# UNIFICACIÓN DE LOS DATOS\n",
    "\n",
    "datos = {\n",
    "    'Edad > 30': mayores_30,\n",
    "    'Edad < 18': menores_18,\n",
    "    'Edad > 50': mayores_50\n",
    "}\n",
    "\n",
    "# GRÁFICO \n",
    "\n",
    "plt.bar(datos.keys(), datos.values(), color=['blue', 'orange', 'green'])\n",
    "plt.title('Conteo de Hombres por Grupo de Edad');"
   ]
  },
  {
   "cell_type": "code",
   "execution_count": 28,
   "id": "d5788012-01fa-45b0-bd23-2088a9ed3336",
   "metadata": {},
   "outputs": [],
   "source": [
    "# CONTEO DE MUJERES MAYORES DE 30, MENORES A 18 Y MAYORES A 50 \n",
    "\n",
    "mayores_30 = df_titanic[(df_titanic[\"Sex\"] == \"female\") & (df_titanic[\"Age\"] > 30)][\"Name\"].count()\n",
    "menores_18 = df_titanic[(df_titanic[\"Sex\"] == \"female\") & (df_titanic[\"Age\"] < 18)][\"Name\"].count()\n",
    "mayores_50 = df_titanic[(df_titanic[\"Sex\"] == \"female\") & (df_titanic[\"Age\"] > 50)][\"Name\"].count()"
   ]
  },
  {
   "cell_type": "code",
   "execution_count": 30,
   "id": "faff8872-b665-42c4-832d-47ae466b25c4",
   "metadata": {},
   "outputs": [
    {
     "data": {
      "image/png": "[encoded data removed]",
      "text/plain": [
       "<Figure size 640x480 with 1 Axes>"
      ]
     },
     "metadata": {},
     "output_type": "display_data"
    }
   ],
   "source": [
    "# UNIFICACIÓN DE LOS DATOS\n",
    "\n",
    "datos = {\n",
    "    'Edad > 30': mayores_30,\n",
    "    'Edad < 18': menores_18,\n",
    "    'Edad > 50': mayores_50\n",
    "}\n",
    "\n",
    "# GRÁFICO\n",
    "\n",
    "plt.bar(datos.keys(), datos.values(), color=['blue', 'orange', 'green'])\n",
    "plt.title('Conteo de muejeres por Grupo de Edad');"
   ]
  },
  {
   "cell_type": "code",
   "execution_count": 58,
   "id": "a3b86e34-228c-4cdc-a17b-aeb09a149134",
   "metadata": {},
   "outputs": [
    {
     "data": {
      "text/plain": [
       "0.0786665441626853"
      ]
     },
     "execution_count": 58,
     "metadata": {},
     "output_type": "execute_result"
    }
   ],
   "source": [
    "# PROMEDIO DE VENTAS EN JAPON \n",
    "\n",
    "promedio_ventas_JP = df_juegos[\"Ventas JP\"].mean()\n",
    "promedio_ventas_JP"
   ]
  },
  {
   "cell_type": "code",
   "execution_count": 60,
   "id": "61c6eed5-e95d-49d2-85e4-49041c11e2c3",
   "metadata": {},
   "outputs": [
    {
     "data": {
      "text/plain": [
       "0.2654146759769692"
      ]
     },
     "execution_count": 60,
     "metadata": {},
     "output_type": "execute_result"
    }
   ],
   "source": [
    "# PROMEDIO DE VENTAS NA \n",
    "\n",
    "promedio_ventas_NA = df_juegos[\"Ventas NA\"].mean()\n",
    "promedio_ventas_NA"
   ]
  },
  {
   "cell_type": "code",
   "execution_count": 40,
   "id": "10e34643-6057-480b-810e-713c6209515d",
   "metadata": {},
   "outputs": [
    {
     "data": {
      "image/png": "[encoded data removed]",
      "text/plain": [
       "<Figure size 640x480 with 1 Axes>"
      ]
     },
     "metadata": {},
     "output_type": "display_data"
    }
   ],
   "source": [
    "# SUMA DE LAS VENTAS POR CADA REGIÓN \n",
    "\n",
    "ventas_NA = df_juegos[\"Ventas NA\"].sum()\n",
    "ventas_JP = df_juegos[\"Ventas JP\"].sum()\n",
    "ventas_EU = df_juegos[\"Ventas EU\"].sum()\n",
    "ventas_otros = df_juegos[\"Ventas Otros\"].sum()\n",
    "ventas_global = df_juegos[\"Ventas Global\"].sum() \n",
    "\n",
    "ventas = {\n",
    "    'ventas NA': ventas_NA,\n",
    "    'ventas JP': ventas_JP,\n",
    "    'ventas EU': ventas_EU,\n",
    "    'ventas otros': ventas_otros,\n",
    "    'ventas globales': ventas_global\n",
    "}\n",
    "\n",
    "# GRÁFICO\n",
    "\n",
    "plt.bar(ventas.keys(), ventas.values(), color=['blue', 'orange', 'green'])\n",
    "plt.title('Ventas por paises')\n",
    "plt.xticks(rotation = 20);"
   ]
  },
  {
   "cell_type": "code",
   "execution_count": 44,
   "id": "07d9650a-b83a-4f15-9d34-a7d67ee63ccb",
   "metadata": {},
   "outputs": [
    {
     "data": {
      "image/png": "[encoded data removed]",
      "text/plain": [
       "<Figure size 640x480 with 1 Axes>"
      ]
     },
     "metadata": {},
     "output_type": "display_data"
    }
   ],
   "source": [
    "# GRAFICAR VENTAS DE TODOS LOS PAISES DE FORMA ASCENDENTE\n",
    "\n",
    "ventas_NA = df_juegos[\"Ventas NA\"].sum()\n",
    "ventas_JP = df_juegos[\"Ventas JP\"].sum()\n",
    "ventas_EU = df_juegos[\"Ventas EU\"].sum()\n",
    "ventas_otros = df_juegos[\"Ventas Otros\"].sum()\n",
    "ventas_global = df_juegos[\"Ventas Global\"].sum() \n",
    "\n",
    "asc = {\n",
    "    'ventas globales': ventas_global,\n",
    "    'ventas NA': ventas_NA,\n",
    "    'ventas EU': ventas_EU,\n",
    "    'ventas JP': ventas_JP,\n",
    "    'ventas otros': ventas_otros\n",
    "}\n",
    "\n",
    "# GRAFICO\n",
    "plt.bar(asc.keys(), asc.values(), color=['blue', 'orange', 'green'])\n",
    "plt.title('Ventas por paises')\n",
    "plt.xticks(rotation = 20);"
   ]
  }
 ],
 "metadata": {
  "kernelspec": {
   "display_name": "Python 3 (ipykernel)",
   "language": "python",
   "name": "python3"
  },
  "language_info": {
   "codemirror_mode": {
    "name": "ipython",
    "version": 3
   },
   "file_extension": ".py",
   "mimetype": "text/x-python",
   "name": "python",
   "nbconvert_exporter": "python",
   "pygments_lexer": "ipython3",
   "version": "3.12.4"
  }
 },
 "nbformat": 4,
 "nbformat_minor": 5
}
