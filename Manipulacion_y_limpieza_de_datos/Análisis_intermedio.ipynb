{
 "cells": [
  {
   "cell_type": "markdown",
   "id": "b4bb0db4-ad26-481e-9984-c91d078e3cd8",
   "metadata": {},
   "source": [
    "## ANÁLISIS INTERMEDIO DE DATOS"
   ]
  },
  {
   "cell_type": "code",
   "execution_count": 4,
   "id": "ef01d46e-c012-405a-968d-4751e15fb4eb",
   "metadata": {},
   "outputs": [],
   "source": [
    "# IMPORTAR LIBRERIAS\n",
    "\n",
    "import pandas as pd "
   ]
  },
  {
   "cell_type": "code",
   "execution_count": 10,
   "id": "b8e636e1-bd46-4694-afad-0391877cb196",
   "metadata": {},
   "outputs": [
    {
     "data": {
      "text/html": [
       "<div>\n",
       "<style scoped>\n",
       "    .dataframe tbody tr th:only-of-type {\n",
       "        vertical-align: middle;\n",
       "    }\n",
       "\n",
       "    .dataframe tbody tr th {\n",
       "        vertical-align: top;\n",
       "    }\n",
       "\n",
       "    .dataframe thead th {\n",
       "        text-align: right;\n",
       "    }\n",
       "</style>\n",
       "<table border=\"1\" class=\"dataframe\">\n",
       "  <thead>\n",
       "    <tr style=\"text-align: right;\">\n",
       "      <th></th>\n",
       "      <th>Fecha</th>\n",
       "      <th>Producto</th>\n",
       "      <th>Cantidad</th>\n",
       "      <th>Precio Unitario</th>\n",
       "      <th>Total Venta</th>\n",
       "    </tr>\n",
       "  </thead>\n",
       "  <tbody>\n",
       "    <tr>\n",
       "      <th>0</th>\n",
       "      <td>2023-01-17</td>\n",
       "      <td>Electrónic</td>\n",
       "      <td>7</td>\n",
       "      <td>200</td>\n",
       "      <td>1400</td>\n",
       "    </tr>\n",
       "    <tr>\n",
       "      <th>1</th>\n",
       "      <td>2023-09-01</td>\n",
       "      <td>Electrónic</td>\n",
       "      <td>8</td>\n",
       "      <td>200</td>\n",
       "      <td>1600</td>\n",
       "    </tr>\n",
       "    <tr>\n",
       "      <th>2</th>\n",
       "      <td>2023-07-29</td>\n",
       "      <td>Juguetes</td>\n",
       "      <td>3</td>\n",
       "      <td>30</td>\n",
       "      <td>90</td>\n",
       "    </tr>\n",
       "    <tr>\n",
       "      <th>3</th>\n",
       "      <td>2023-10-04</td>\n",
       "      <td>Alimentos</td>\n",
       "      <td>4</td>\n",
       "      <td>10</td>\n",
       "      <td>40</td>\n",
       "    </tr>\n",
       "    <tr>\n",
       "      <th>4</th>\n",
       "      <td>2023-02-28</td>\n",
       "      <td>Electrónic</td>\n",
       "      <td>6</td>\n",
       "      <td>200</td>\n",
       "      <td>1200</td>\n",
       "    </tr>\n",
       "    <tr>\n",
       "      <th>...</th>\n",
       "      <td>...</td>\n",
       "      <td>...</td>\n",
       "      <td>...</td>\n",
       "      <td>...</td>\n",
       "      <td>...</td>\n",
       "    </tr>\n",
       "    <tr>\n",
       "      <th>1045</th>\n",
       "      <td>2023-09-11</td>\n",
       "      <td>Juguetes</td>\n",
       "      <td>10</td>\n",
       "      <td>30</td>\n",
       "      <td>300</td>\n",
       "    </tr>\n",
       "    <tr>\n",
       "      <th>1046</th>\n",
       "      <td>2023-01-03</td>\n",
       "      <td>Juguetes</td>\n",
       "      <td>10</td>\n",
       "      <td>30</td>\n",
       "      <td>300</td>\n",
       "    </tr>\n",
       "    <tr>\n",
       "      <th>1047</th>\n",
       "      <td>2023-11-07</td>\n",
       "      <td>Alimentos</td>\n",
       "      <td>3</td>\n",
       "      <td>10</td>\n",
       "      <td>30</td>\n",
       "    </tr>\n",
       "    <tr>\n",
       "      <th>1048</th>\n",
       "      <td>2023-08-20</td>\n",
       "      <td>Electrónic</td>\n",
       "      <td>6</td>\n",
       "      <td>200</td>\n",
       "      <td>1200</td>\n",
       "    </tr>\n",
       "    <tr>\n",
       "      <th>1049</th>\n",
       "      <td>2023-07-21</td>\n",
       "      <td>Juguetes</td>\n",
       "      <td>3</td>\n",
       "      <td>30</td>\n",
       "      <td>90</td>\n",
       "    </tr>\n",
       "  </tbody>\n",
       "</table>\n",
       "<p>1050 rows × 5 columns</p>\n",
       "</div>"
      ],
      "text/plain": [
       "           Fecha    Producto  Cantidad  Precio Unitario  Total Venta\n",
       "0     2023-01-17  Electrónic         7              200         1400\n",
       "1     2023-09-01  Electrónic         8              200         1600\n",
       "2     2023-07-29    Juguetes         3               30           90\n",
       "3     2023-10-04   Alimentos         4               10           40\n",
       "4     2023-02-28  Electrónic         6              200         1200\n",
       "...          ...         ...       ...              ...          ...\n",
       "1045  2023-09-11    Juguetes        10               30          300\n",
       "1046  2023-01-03    Juguetes        10               30          300\n",
       "1047  2023-11-07   Alimentos         3               10           30\n",
       "1048  2023-08-20  Electrónic         6              200         1200\n",
       "1049  2023-07-21    Juguetes         3               30           90\n",
       "\n",
       "[1050 rows x 5 columns]"
      ]
     },
     "execution_count": 10,
     "metadata": {},
     "output_type": "execute_result"
    }
   ],
   "source": [
    "# 1. CARGA DE DATOS\n",
    "df = pd.read_csv(\"C:/Users/Julian/Downloads/Excel sin saber/ventas_tienda.csv\")\n",
    "df"
   ]
  },
  {
   "cell_type": "code",
   "execution_count": 16,
   "id": "19f958c4-3c49-49e5-a5c9-44df601657d3",
   "metadata": {},
   "outputs": [
    {
     "data": {
      "text/plain": [
       "Producto\n",
       "Electrónic    244000\n",
       "Ropa           56400\n",
       "Juguetes       33390\n",
       "Libros         20840\n",
       "Alimentos      12620\n",
       "Name: Total Venta, dtype: int64"
      ]
     },
     "execution_count": 16,
     "metadata": {},
     "output_type": "execute_result"
    }
   ],
   "source": [
    "# 2. VENTAS TOTALES POR PRODUCTO\n",
    "ventas_totales = df.groupby('Producto')[\"Total Venta\"].sum()\n",
    "ventas_totales.sort_values(ascending = False)"
   ]
  },
  {
   "cell_type": "code",
   "execution_count": 28,
   "id": "e3c23e4c-e7c9-4148-a9cd-ff4cc6e3ba4d",
   "metadata": {},
   "outputs": [
    {
     "data": {
      "text/plain": [
       "Producto\n",
       "Electrónic    66.44\n",
       "Ropa          15.36\n",
       "Juguetes       9.09\n",
       "Libros         5.67\n",
       "Alimentos      3.44\n",
       "Name: Total Venta, dtype: float64"
      ]
     },
     "execution_count": 28,
     "metadata": {},
     "output_type": "execute_result"
    }
   ],
   "source": [
    "# 2.1 VENTAS TOTALES POR PRODUCTO % \n",
    "\n",
    "por_ventas = (ventas_totales / df[\"Total Venta\"].sum() * 100).round(2)\n",
    "por_ventas.sort_values(ascending = False)"
   ]
  },
  {
   "cell_type": "code",
   "execution_count": 34,
   "id": "63b9ab76-d88d-4832-b35a-069096937c1b",
   "metadata": {},
   "outputs": [
    {
     "data": {
      "text/plain": [
       "349.76"
      ]
     },
     "execution_count": 34,
     "metadata": {},
     "output_type": "execute_result"
    }
   ],
   "source": [
    "# 4. PROMEDIO DE VENTAS TOTAL\n",
    "promedio_ventas_diarias = df[\"Total Venta\"].mean().round(2)\n",
    "promedio_ventas_diarias"
   ]
  },
  {
   "cell_type": "code",
   "execution_count": 42,
   "id": "6350c7df-844e-440b-8656-d9b487ab46ed",
   "metadata": {},
   "outputs": [
    {
     "data": {
      "text/html": [
       "<div>\n",
       "<style scoped>\n",
       "    .dataframe tbody tr th:only-of-type {\n",
       "        vertical-align: middle;\n",
       "    }\n",
       "\n",
       "    .dataframe tbody tr th {\n",
       "        vertical-align: top;\n",
       "    }\n",
       "\n",
       "    .dataframe thead th {\n",
       "        text-align: right;\n",
       "    }\n",
       "</style>\n",
       "<table border=\"1\" class=\"dataframe\">\n",
       "  <thead>\n",
       "    <tr style=\"text-align: right;\">\n",
       "      <th></th>\n",
       "      <th>index</th>\n",
       "      <th>Fecha</th>\n",
       "      <th>Producto</th>\n",
       "      <th>Cantidad</th>\n",
       "      <th>Precio Unitario</th>\n",
       "      <th>Total Venta</th>\n",
       "    </tr>\n",
       "  </thead>\n",
       "  <tbody>\n",
       "    <tr>\n",
       "      <th>0</th>\n",
       "      <td>8</td>\n",
       "      <td>2023-03-22</td>\n",
       "      <td>Ropa</td>\n",
       "      <td>10</td>\n",
       "      <td>50</td>\n",
       "      <td>500</td>\n",
       "    </tr>\n",
       "    <tr>\n",
       "      <th>1</th>\n",
       "      <td>14</td>\n",
       "      <td>2023-01-19</td>\n",
       "      <td>Juguetes</td>\n",
       "      <td>10</td>\n",
       "      <td>30</td>\n",
       "      <td>300</td>\n",
       "    </tr>\n",
       "    <tr>\n",
       "      <th>2</th>\n",
       "      <td>17</td>\n",
       "      <td>2023-05-19</td>\n",
       "      <td>Libros</td>\n",
       "      <td>10</td>\n",
       "      <td>20</td>\n",
       "      <td>200</td>\n",
       "    </tr>\n",
       "    <tr>\n",
       "      <th>3</th>\n",
       "      <td>21</td>\n",
       "      <td>2023-05-01</td>\n",
       "      <td>Electrónic</td>\n",
       "      <td>10</td>\n",
       "      <td>200</td>\n",
       "      <td>2000</td>\n",
       "    </tr>\n",
       "    <tr>\n",
       "      <th>4</th>\n",
       "      <td>29</td>\n",
       "      <td>2023-05-19</td>\n",
       "      <td>Ropa</td>\n",
       "      <td>10</td>\n",
       "      <td>50</td>\n",
       "      <td>500</td>\n",
       "    </tr>\n",
       "    <tr>\n",
       "      <th>...</th>\n",
       "      <td>...</td>\n",
       "      <td>...</td>\n",
       "      <td>...</td>\n",
       "      <td>...</td>\n",
       "      <td>...</td>\n",
       "      <td>...</td>\n",
       "    </tr>\n",
       "    <tr>\n",
       "      <th>102</th>\n",
       "      <td>976</td>\n",
       "      <td>2023-04-09</td>\n",
       "      <td>Electrónic</td>\n",
       "      <td>10</td>\n",
       "      <td>200</td>\n",
       "      <td>2000</td>\n",
       "    </tr>\n",
       "    <tr>\n",
       "      <th>103</th>\n",
       "      <td>989</td>\n",
       "      <td>2023-12-06</td>\n",
       "      <td>Alimentos</td>\n",
       "      <td>10</td>\n",
       "      <td>10</td>\n",
       "      <td>100</td>\n",
       "    </tr>\n",
       "    <tr>\n",
       "      <th>104</th>\n",
       "      <td>996</td>\n",
       "      <td>2023-06-09</td>\n",
       "      <td>Ropa</td>\n",
       "      <td>10</td>\n",
       "      <td>50</td>\n",
       "      <td>500</td>\n",
       "    </tr>\n",
       "    <tr>\n",
       "      <th>105</th>\n",
       "      <td>1045</td>\n",
       "      <td>2023-09-11</td>\n",
       "      <td>Juguetes</td>\n",
       "      <td>10</td>\n",
       "      <td>30</td>\n",
       "      <td>300</td>\n",
       "    </tr>\n",
       "    <tr>\n",
       "      <th>106</th>\n",
       "      <td>1046</td>\n",
       "      <td>2023-01-03</td>\n",
       "      <td>Juguetes</td>\n",
       "      <td>10</td>\n",
       "      <td>30</td>\n",
       "      <td>300</td>\n",
       "    </tr>\n",
       "  </tbody>\n",
       "</table>\n",
       "<p>107 rows × 6 columns</p>\n",
       "</div>"
      ],
      "text/plain": [
       "     index       Fecha    Producto  Cantidad  Precio Unitario  Total Venta\n",
       "0        8  2023-03-22        Ropa        10               50          500\n",
       "1       14  2023-01-19    Juguetes        10               30          300\n",
       "2       17  2023-05-19      Libros        10               20          200\n",
       "3       21  2023-05-01  Electrónic        10              200         2000\n",
       "4       29  2023-05-19        Ropa        10               50          500\n",
       "..     ...         ...         ...       ...              ...          ...\n",
       "102    976  2023-04-09  Electrónic        10              200         2000\n",
       "103    989  2023-12-06   Alimentos        10               10          100\n",
       "104    996  2023-06-09        Ropa        10               50          500\n",
       "105   1045  2023-09-11    Juguetes        10               30          300\n",
       "106   1046  2023-01-03    Juguetes        10               30          300\n",
       "\n",
       "[107 rows x 6 columns]"
      ]
     },
     "execution_count": 42,
     "metadata": {},
     "output_type": "execute_result"
    }
   ],
   "source": [
    "# 5. Transacciones donde se vendieron mas de 9 unidades\n",
    "mas_de_dos = df[df[\"Cantidad\"] > 9].reset_index()\n",
    "mas_de_dos"
   ]
  },
  {
   "cell_type": "code",
   "execution_count": 56,
   "id": "71c55e33-62c0-4499-ac27-33a795683065",
   "metadata": {},
   "outputs": [
    {
     "data": {
      "text/plain": [
       "Mes\n",
       "August       45090\n",
       "January      43030\n",
       "May          39380\n",
       "December     33560\n",
       "June         30520\n",
       "February     28410\n",
       "September    27870\n",
       "July         26350\n",
       "October      25610\n",
       "April        23210\n",
       "March        23200\n",
       "November     21020\n",
       "Name: Total Venta, dtype: int64"
      ]
     },
     "execution_count": 56,
     "metadata": {},
     "output_type": "execute_result"
    }
   ],
   "source": [
    "# 6. Ventas por mes\n",
    "df[\"Fecha\"] = pd.to_datetime(df[\"Fecha\"], format = \"mixed\")\n",
    "df[\"Mes\"] = df[\"Fecha\"].dt.month_name()\n",
    "ventas_por_mes = df.groupby('Mes')[\"Total Venta\"].sum()\n",
    "ventas_por_mes.sort_values(ascending = False)"
   ]
  },
  {
   "cell_type": "code",
   "execution_count": 60,
   "id": "5cf1e031-e25b-4d06-8594-7e121a075bb0",
   "metadata": {},
   "outputs": [
    {
     "data": {
      "text/plain": [
       "Mes\n",
       "August       12.28\n",
       "January      11.72\n",
       "May          10.72\n",
       "December      9.14\n",
       "June          8.31\n",
       "February      7.74\n",
       "September     7.59\n",
       "July          7.17\n",
       "October       6.97\n",
       "April         6.32\n",
       "March         6.32\n",
       "November      5.72\n",
       "Name: Total Venta, dtype: float64"
      ]
     },
     "execution_count": 60,
     "metadata": {},
     "output_type": "execute_result"
    }
   ],
   "source": [
    "# 6.1 Ventas por mes %\n",
    "\n",
    "por_ventas_por_mes = (ventas_por_mes / df[\"Total Venta\"].sum() * 100).round(2)\n",
    "por_ventas_por_mes.sort_values(ascending = False)"
   ]
  },
  {
   "cell_type": "code",
   "execution_count": 62,
   "id": "e174747d-dc60-4d60-97c0-af715331cc8d",
   "metadata": {},
   "outputs": [
    {
     "data": {
      "text/plain": [
       "Producto\n",
       "Alimentos      10.0\n",
       "Electrónic    200.0\n",
       "Juguetes       30.0\n",
       "Libros         20.0\n",
       "Ropa           50.0\n",
       "Name: Precio Unitario, dtype: float64"
      ]
     },
     "execution_count": 62,
     "metadata": {},
     "output_type": "execute_result"
    }
   ],
   "source": [
    "# 10. Precio unitario promedio de los productos en cada categoría.\n",
    "precio_promedio_categoria = df.groupby('Producto')[\"Precio Unitario\"].mean()\n",
    "precio_promedio_categoria"
   ]
  },
  {
   "cell_type": "code",
   "execution_count": null,
   "id": "86f888c1-406d-43ba-95ce-2c255ffe95b1",
   "metadata": {},
   "outputs": [],
   "source": []
  }
 ],
 "metadata": {
  "kernelspec": {
   "display_name": "Python 3 (ipykernel)",
   "language": "python",
   "name": "python3"
  },
  "language_info": {
   "codemirror_mode": {
    "name": "ipython",
    "version": 3
   },
   "file_extension": ".py",
   "mimetype": "text/x-python",
   "name": "python",
   "nbconvert_exporter": "python",
   "pygments_lexer": "ipython3",
   "version": "3.12.4"
  }
 },
 "nbformat": 4,
 "nbformat_minor": 5
}
