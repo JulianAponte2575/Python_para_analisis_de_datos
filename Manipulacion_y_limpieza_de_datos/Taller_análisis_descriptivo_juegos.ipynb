{
 "cells": [
  {
   "cell_type": "markdown",
   "id": "091d5eb6-7b18-477e-8005-e37e4d1a8bc6",
   "metadata": {},
   "source": [
    "# Taller: análisis de datos de videojuegos\n",
    "\n",
    "Taller teorico y practico para hacer análisis de datos con una tabla estructurada. "
   ]
  },
  {
   "cell_type": "markdown",
   "id": "8afcf7d3-3325-406f-8e13-7695cd3ecfe7",
   "metadata": {},
   "source": [
    "• **¿Qué librerías son necesarias para trabajar con datos y visualización?**\n",
    "\n",
    "Pandas permite trabajar con tablas, leer formatos y limpiar datos además de hacer algunos gráficos. Mientras que seaborn, matplotlib permiten hacer gráficas poderosas y con alta personalización. \r"
   ]
  },
  {
   "cell_type": "code",
   "execution_count": 9,
   "id": "e968aad6-e7e9-4a25-bfec-fa45e0ee1619",
   "metadata": {},
   "outputs": [],
   "source": [
    "# IMPORTACIÓN DE LIBRERÍAS\n",
    "\n",
    "import pandas as pd\n",
    "import matplotlib.pyplot as plt\n",
    "import seaborn as sns"
   ]
  },
  {
   "cell_type": "markdown",
   "id": "a1f7f75b-1e10-4794-886e-7b1d906e6c96",
   "metadata": {},
   "source": [
    "• **¿Cómo se carga un conjunto de datos en Python?**\n",
    "\n",
    "Es importaante tener la ruta y saber el tipo de archivo para usar un método de pandas, posteriormente si se está en jupyter lab se sube directo al entorno de trabajo y la ruta solo será el nombre del archivo."
   ]
  },
  {
   "cell_type": "code",
   "execution_count": 11,
   "id": "e32987da-90e5-45df-afd0-aee289fd1d99",
   "metadata": {},
   "outputs": [
    {
     "data": {
      "text/html": [
       "<div>\n",
       "<style scoped>\n",
       "    .dataframe tbody tr th:only-of-type {\n",
       "        vertical-align: middle;\n",
       "    }\n",
       "\n",
       "    .dataframe tbody tr th {\n",
       "        vertical-align: top;\n",
       "    }\n",
       "\n",
       "    .dataframe thead th {\n",
       "        text-align: right;\n",
       "    }\n",
       "</style>\n",
       "<table border=\"1\" class=\"dataframe\">\n",
       "  <thead>\n",
       "    <tr style=\"text-align: right;\">\n",
       "      <th></th>\n",
       "      <th>Nombre</th>\n",
       "      <th>Plataforma</th>\n",
       "      <th>Año</th>\n",
       "      <th>Genero</th>\n",
       "      <th>Editorial</th>\n",
       "      <th>Ventas NA</th>\n",
       "      <th>Ventas EU</th>\n",
       "      <th>Ventas JP</th>\n",
       "      <th>Ventas Otros</th>\n",
       "      <th>Ventas Global</th>\n",
       "    </tr>\n",
       "  </thead>\n",
       "  <tbody>\n",
       "    <tr>\n",
       "      <th>0</th>\n",
       "      <td>Wii Sports</td>\n",
       "      <td>Wii</td>\n",
       "      <td>2006</td>\n",
       "      <td>Sports</td>\n",
       "      <td>Nintendo</td>\n",
       "      <td>41.49</td>\n",
       "      <td>29.02</td>\n",
       "      <td>3.77</td>\n",
       "      <td>8.46</td>\n",
       "      <td>82.74</td>\n",
       "    </tr>\n",
       "    <tr>\n",
       "      <th>1</th>\n",
       "      <td>Super Mario Bros.</td>\n",
       "      <td>NES</td>\n",
       "      <td>1985</td>\n",
       "      <td>Platform</td>\n",
       "      <td>Nintendo</td>\n",
       "      <td>29.08</td>\n",
       "      <td>3.58</td>\n",
       "      <td>6.81</td>\n",
       "      <td>0.77</td>\n",
       "      <td>40.24</td>\n",
       "    </tr>\n",
       "    <tr>\n",
       "      <th>2</th>\n",
       "      <td>Mario Kart Wii</td>\n",
       "      <td>Wii</td>\n",
       "      <td>2008</td>\n",
       "      <td>Racing</td>\n",
       "      <td>Nintendo</td>\n",
       "      <td>15.85</td>\n",
       "      <td>12.88</td>\n",
       "      <td>3.79</td>\n",
       "      <td>3.31</td>\n",
       "      <td>35.82</td>\n",
       "    </tr>\n",
       "    <tr>\n",
       "      <th>3</th>\n",
       "      <td>Wii Sports Resort</td>\n",
       "      <td>Wii</td>\n",
       "      <td>2009</td>\n",
       "      <td>Sports</td>\n",
       "      <td>Nintendo</td>\n",
       "      <td>15.75</td>\n",
       "      <td>11.01</td>\n",
       "      <td>3.28</td>\n",
       "      <td>2.96</td>\n",
       "      <td>33.00</td>\n",
       "    </tr>\n",
       "    <tr>\n",
       "      <th>4</th>\n",
       "      <td>Pokemon Red/Pokemon Blue</td>\n",
       "      <td>GB</td>\n",
       "      <td>1996</td>\n",
       "      <td>Role-Playing</td>\n",
       "      <td>Nintendo</td>\n",
       "      <td>11.27</td>\n",
       "      <td>8.89</td>\n",
       "      <td>10.22</td>\n",
       "      <td>1.00</td>\n",
       "      <td>31.37</td>\n",
       "    </tr>\n",
       "    <tr>\n",
       "      <th>...</th>\n",
       "      <td>...</td>\n",
       "      <td>...</td>\n",
       "      <td>...</td>\n",
       "      <td>...</td>\n",
       "      <td>...</td>\n",
       "      <td>...</td>\n",
       "      <td>...</td>\n",
       "      <td>...</td>\n",
       "      <td>...</td>\n",
       "      <td>...</td>\n",
       "    </tr>\n",
       "    <tr>\n",
       "      <th>16321</th>\n",
       "      <td>Farming 2017 - The Simulation</td>\n",
       "      <td>PS4</td>\n",
       "      <td>2016</td>\n",
       "      <td>Simulation</td>\n",
       "      <td>UIG Entertainment</td>\n",
       "      <td>0.00</td>\n",
       "      <td>0.01</td>\n",
       "      <td>0.00</td>\n",
       "      <td>0.00</td>\n",
       "      <td>0.01</td>\n",
       "    </tr>\n",
       "    <tr>\n",
       "      <th>16322</th>\n",
       "      <td>Rugby Challenge 3</td>\n",
       "      <td>XOne</td>\n",
       "      <td>2016</td>\n",
       "      <td>Sports</td>\n",
       "      <td>Alternative Software</td>\n",
       "      <td>0.00</td>\n",
       "      <td>0.01</td>\n",
       "      <td>0.00</td>\n",
       "      <td>0.00</td>\n",
       "      <td>0.01</td>\n",
       "    </tr>\n",
       "    <tr>\n",
       "      <th>16323</th>\n",
       "      <td>Chou Ezaru wa Akai Hana: Koi wa Tsuki ni Shiru...</td>\n",
       "      <td>PSV</td>\n",
       "      <td>2016</td>\n",
       "      <td>Action</td>\n",
       "      <td>dramatic create</td>\n",
       "      <td>0.00</td>\n",
       "      <td>0.00</td>\n",
       "      <td>0.01</td>\n",
       "      <td>0.00</td>\n",
       "      <td>0.01</td>\n",
       "    </tr>\n",
       "    <tr>\n",
       "      <th>16324</th>\n",
       "      <td>Phantasy Star Online 2 Episode 4: Deluxe Package</td>\n",
       "      <td>PSV</td>\n",
       "      <td>2017</td>\n",
       "      <td>Role-Playing</td>\n",
       "      <td>Sega</td>\n",
       "      <td>0.00</td>\n",
       "      <td>0.00</td>\n",
       "      <td>0.01</td>\n",
       "      <td>0.00</td>\n",
       "      <td>0.01</td>\n",
       "    </tr>\n",
       "    <tr>\n",
       "      <th>16325</th>\n",
       "      <td>Brothers Conflict: Precious Baby</td>\n",
       "      <td>PSV</td>\n",
       "      <td>2017</td>\n",
       "      <td>Action</td>\n",
       "      <td>Idea Factory</td>\n",
       "      <td>0.00</td>\n",
       "      <td>0.00</td>\n",
       "      <td>0.01</td>\n",
       "      <td>0.00</td>\n",
       "      <td>0.01</td>\n",
       "    </tr>\n",
       "  </tbody>\n",
       "</table>\n",
       "<p>16326 rows × 10 columns</p>\n",
       "</div>"
      ],
      "text/plain": [
       "                                                  Nombre Plataforma   Año  \\\n",
       "0                                             Wii Sports        Wii  2006   \n",
       "1                                      Super Mario Bros.        NES  1985   \n",
       "2                                         Mario Kart Wii        Wii  2008   \n",
       "3                                      Wii Sports Resort        Wii  2009   \n",
       "4                               Pokemon Red/Pokemon Blue         GB  1996   \n",
       "...                                                  ...        ...   ...   \n",
       "16321                      Farming 2017 - The Simulation        PS4  2016   \n",
       "16322                                  Rugby Challenge 3       XOne  2016   \n",
       "16323  Chou Ezaru wa Akai Hana: Koi wa Tsuki ni Shiru...        PSV  2016   \n",
       "16324   Phantasy Star Online 2 Episode 4: Deluxe Package        PSV  2017   \n",
       "16325                   Brothers Conflict: Precious Baby        PSV  2017   \n",
       "\n",
       "             Genero             Editorial  Ventas NA  Ventas EU  Ventas JP  \\\n",
       "0            Sports              Nintendo      41.49      29.02       3.77   \n",
       "1          Platform              Nintendo      29.08       3.58       6.81   \n",
       "2            Racing              Nintendo      15.85      12.88       3.79   \n",
       "3            Sports              Nintendo      15.75      11.01       3.28   \n",
       "4      Role-Playing              Nintendo      11.27       8.89      10.22   \n",
       "...             ...                   ...        ...        ...        ...   \n",
       "16321    Simulation     UIG Entertainment       0.00       0.01       0.00   \n",
       "16322        Sports  Alternative Software       0.00       0.01       0.00   \n",
       "16323        Action       dramatic create       0.00       0.00       0.01   \n",
       "16324  Role-Playing                  Sega       0.00       0.00       0.01   \n",
       "16325        Action          Idea Factory       0.00       0.00       0.01   \n",
       "\n",
       "       Ventas Otros  Ventas Global  \n",
       "0              8.46          82.74  \n",
       "1              0.77          40.24  \n",
       "2              3.31          35.82  \n",
       "3              2.96          33.00  \n",
       "4              1.00          31.37  \n",
       "...             ...            ...  \n",
       "16321          0.00           0.01  \n",
       "16322          0.00           0.01  \n",
       "16323          0.00           0.01  \n",
       "16324          0.00           0.01  \n",
       "16325          0.00           0.01  \n",
       "\n",
       "[16326 rows x 10 columns]"
      ]
     },
     "execution_count": 11,
     "metadata": {},
     "output_type": "execute_result"
    }
   ],
   "source": [
    "# LECTURA DE TABLA\n",
    "\n",
    "ruta = \"C:/Users/Julian/Documents/Ejecicios del botcamp/Ventas_Videojuegos.xlsx\"\n",
    "juegos = pd.read_excel(ruta)\n",
    "juegos"
   ]
  },
  {
   "cell_type": "markdown",
   "id": "e60f994e-b129-44c3-991c-c29d436ef3d6",
   "metadata": {},
   "source": [
    "• **¿Qué información podemos obtener al ver las primeras filas del dataset?**\r\n",
    "- El indice, cantidad de filas y columnas, el nombre de cada columna y como se constituyen los datos."
   ]
  },
  {
   "cell_type": "code",
   "execution_count": 13,
   "id": "e393e684-4dff-47f7-96cf-735f7fb9cbb6",
   "metadata": {},
   "outputs": [
    {
     "data": {
      "text/plain": [
       "((16326, 10), 163260)"
      ]
     },
     "execution_count": 13,
     "metadata": {},
     "output_type": "execute_result"
    }
   ],
   "source": [
    "# TAMAÑO DE LA TABLA\n",
    "\n",
    "juegos.shape, juegos.size"
   ]
  },
  {
   "cell_type": "markdown",
   "id": "4101bd0b-858c-4fb3-b612-716e13931a2c",
   "metadata": {},
   "source": [
    "• **¿Qué tipos de datos están presentes en nuestro conjunto de datos?**\r\n",
    "- Se pueden ver datos de texto como objetos, datos enteros como int64 y decimales como float64."
   ]
  },
  {
   "cell_type": "code",
   "execution_count": 15,
   "id": "8fc81f7b-e5b6-4296-8b1a-1897ff3ea8db",
   "metadata": {},
   "outputs": [
    {
     "name": "stdout",
     "output_type": "stream",
     "text": [
      "<class 'pandas.core.frame.DataFrame'>\n",
      "RangeIndex: 16326 entries, 0 to 16325\n",
      "Data columns (total 10 columns):\n",
      " #   Column         Non-Null Count  Dtype  \n",
      "---  ------         --------------  -----  \n",
      " 0   Nombre         16326 non-null  object \n",
      " 1   Plataforma     16326 non-null  object \n",
      " 2   Año            16326 non-null  int64  \n",
      " 3   Genero         16326 non-null  object \n",
      " 4   Editorial      16290 non-null  object \n",
      " 5   Ventas NA      16326 non-null  float64\n",
      " 6   Ventas EU      16326 non-null  float64\n",
      " 7   Ventas JP      16326 non-null  float64\n",
      " 8   Ventas Otros   16326 non-null  float64\n",
      " 9   Ventas Global  16326 non-null  float64\n",
      "dtypes: float64(5), int64(1), object(4)\n",
      "memory usage: 1.2+ MB\n"
     ]
    }
   ],
   "source": [
    "# INFORMACIÓN COLUMNAS \n",
    "\n",
    "juegos.info()"
   ]
  },
  {
   "cell_type": "markdown",
   "id": "3d5d1e53-6163-4ec6-b6bb-345ea861c4c8",
   "metadata": {},
   "source": [
    "- Se pasaran los géneros y plataformas a categoricas. "
   ]
  },
  {
   "cell_type": "code",
   "execution_count": 17,
   "id": "aacbf9a1-f866-4f31-9186-ef576b65b093",
   "metadata": {},
   "outputs": [],
   "source": [
    "# PASAR A CATEGORICAS GENERO Y PLATAFORMA\n",
    "\n",
    "juegos[\"Plataforma\"] = juegos[\"Plataforma\"].astype(\"category\")\n",
    "juegos[\"Genero\"] = juegos[\"Genero\"].astype(\"category\")"
   ]
  },
  {
   "cell_type": "markdown",
   "id": "8451f809-01bc-4e75-8927-24ddb3fe71d2",
   "metadata": {},
   "source": [
    "#### DUPLICADOS"
   ]
  },
  {
   "cell_type": "markdown",
   "id": "258f1b15-d728-49a9-882e-f9f7d9effbf0",
   "metadata": {},
   "source": [
    "• **¿Por qué es importante eliminar los duplicados en un conjunto de datos?**\n",
    "\n",
    "Para que no hayan redundancias en los cálculos y sean más fiables los análisis."
   ]
  },
  {
   "cell_type": "markdown",
   "id": "aff5b3d3-8dc0-48d9-ae13-cf3e88d8436d",
   "metadata": {},
   "source": [
    "• **¿Cómo podemos verificar si quedan duplicados?**\n",
    "\n",
    "Con metodos de pandas de duplicated y sumandolos."
   ]
  },
  {
   "cell_type": "code",
   "execution_count": 21,
   "id": "ab8c2fb5-f9ed-492c-a933-7091dd23d12b",
   "metadata": {},
   "outputs": [
    {
     "data": {
      "text/plain": [
       "0"
      ]
     },
     "execution_count": 21,
     "metadata": {},
     "output_type": "execute_result"
    }
   ],
   "source": [
    "# DUPLICADOS \n",
    "\n",
    "duplicados = juegos.duplicated().sum()\n",
    "duplicados"
   ]
  },
  {
   "cell_type": "markdown",
   "id": "c69d4a52-f175-4462-86f1-6e540d21cd49",
   "metadata": {},
   "source": [
    "#### NULOS"
   ]
  },
  {
   "cell_type": "markdown",
   "id": "2cbc5b13-e976-4b89-91a3-0a3dfa174989",
   "metadata": {},
   "source": [
    "• ¿Qué métodos existen para manejar valores nulos?"
   ]
  },
  {
   "cell_type": "code",
   "execution_count": 24,
   "id": "7c229545-0a2e-48b5-a8df-1e7e2a1d45c2",
   "metadata": {},
   "outputs": [
    {
     "data": {
      "text/plain": [
       "Editorial     36\n",
       "Nombre         0\n",
       "Plataforma     0\n",
       "Año            0\n",
       "Genero         0\n",
       "dtype: int64"
      ]
     },
     "execution_count": 24,
     "metadata": {},
     "output_type": "execute_result"
    }
   ],
   "source": [
    "# CONTEO DE NULOS\n",
    "\n",
    "juegos.isna().sum().sort_values(ascending = False).head(5)"
   ]
  },
  {
   "cell_type": "markdown",
   "id": "c86f716d-660a-45ea-b062-9a06fc174f9b",
   "metadata": {},
   "source": [
    "- Se imputara editorial con la moda. "
   ]
  },
  {
   "cell_type": "code",
   "execution_count": 26,
   "id": "b0827133-f899-42c3-9922-ee246658365d",
   "metadata": {},
   "outputs": [],
   "source": [
    "# IMPUTAR EDITORIAL\n",
    "\n",
    "juegos[\"Editorial\"] = juegos[\"Editorial\"].fillna(\"Electronic Arts\")"
   ]
  },
  {
   "cell_type": "code",
   "execution_count": 27,
   "id": "ad3ba766-aeb6-4d05-9a2e-22b6723651d2",
   "metadata": {},
   "outputs": [
    {
     "data": {
      "text/plain": [
       "Nombre        0\n",
       "Plataforma    0\n",
       "Año           0\n",
       "Genero        0\n",
       "Editorial     0\n",
       "dtype: int64"
      ]
     },
     "execution_count": 27,
     "metadata": {},
     "output_type": "execute_result"
    }
   ],
   "source": [
    "# CONTEO DE NULOS\n",
    "\n",
    "juegos.isna().sum().sort_values(ascending = False).head(5)"
   ]
  },
  {
   "cell_type": "markdown",
   "id": "0d0dcb20-6ceb-4cf1-baab-6d65319f9b72",
   "metadata": {},
   "source": [
    "- Ya no hay nulos."
   ]
  },
  {
   "cell_type": "code",
   "execution_count": 29,
   "id": "6de954fe-4a06-413f-b4ac-bc8db0dc0805",
   "metadata": {},
   "outputs": [
    {
     "name": "stderr",
     "output_type": "stream",
     "text": [
      "C:\\Users\\Julian\\AppData\\Local\\Temp\\ipykernel_2340\\2975623919.py:3: FutureWarning: The default of observed=False is deprecated and will be changed to True in a future version of pandas. Pass observed=False to retain current behavior or observed=True to adopt the future default and silence this warning.\n",
      "  generos = juegos.groupby(\"Genero\")[\"Genero\"].count().sort_values(ascending = False)\n"
     ]
    },
    {
     "data": {
      "text/plain": [
       "Genero\n",
       "Action          19.93\n",
       "Sports          14.11\n",
       "Misc            10.47\n",
       "Role-Playing     9.01\n",
       "Shooter          7.85\n",
       "Adventure        7.82\n",
       "Racing           7.51\n",
       "Platform         5.37\n",
       "Simulation       5.21\n",
       "Fighting         5.12\n",
       "Strategy         4.11\n",
       "Puzzle           3.50\n",
       "Name: Genero, dtype: float64"
      ]
     },
     "execution_count": 29,
     "metadata": {},
     "output_type": "execute_result"
    }
   ],
   "source": [
    "# TABLA DE FRECUENCIA POR PORCENTAJE\n",
    "\n",
    "generos = juegos.groupby(\"Genero\")[\"Genero\"].count().sort_values(ascending = False)\n",
    "generos = (generos / len(juegos) * 100).round(2)\n",
    "generos"
   ]
  },
  {
   "cell_type": "code",
   "execution_count": 30,
   "id": "35e5361a-cebd-49fc-8454-81b4b8c0d58c",
   "metadata": {},
   "outputs": [
    {
     "data": {
      "text/html": [
       "<div>\n",
       "<style scoped>\n",
       "    .dataframe tbody tr th:only-of-type {\n",
       "        vertical-align: middle;\n",
       "    }\n",
       "\n",
       "    .dataframe tbody tr th {\n",
       "        vertical-align: top;\n",
       "    }\n",
       "\n",
       "    .dataframe thead th {\n",
       "        text-align: right;\n",
       "    }\n",
       "</style>\n",
       "<table border=\"1\" class=\"dataframe\">\n",
       "  <thead>\n",
       "    <tr style=\"text-align: right;\">\n",
       "      <th></th>\n",
       "      <th>Nombre</th>\n",
       "      <th>Plataforma</th>\n",
       "      <th>Año</th>\n",
       "      <th>Genero</th>\n",
       "      <th>Editorial</th>\n",
       "      <th>Ventas NA</th>\n",
       "      <th>Ventas EU</th>\n",
       "      <th>Ventas JP</th>\n",
       "      <th>Ventas Otros</th>\n",
       "      <th>Ventas Global</th>\n",
       "    </tr>\n",
       "  </thead>\n",
       "  <tbody>\n",
       "    <tr>\n",
       "      <th>count</th>\n",
       "      <td>16326</td>\n",
       "      <td>16326</td>\n",
       "      <td>16326.000000</td>\n",
       "      <td>16326</td>\n",
       "      <td>16326</td>\n",
       "      <td>16326.000000</td>\n",
       "      <td>16326.000000</td>\n",
       "      <td>16326.000000</td>\n",
       "      <td>16326.000000</td>\n",
       "      <td>16326.000000</td>\n",
       "    </tr>\n",
       "    <tr>\n",
       "      <th>unique</th>\n",
       "      <td>11359</td>\n",
       "      <td>31</td>\n",
       "      <td>NaN</td>\n",
       "      <td>12</td>\n",
       "      <td>576</td>\n",
       "      <td>NaN</td>\n",
       "      <td>NaN</td>\n",
       "      <td>NaN</td>\n",
       "      <td>NaN</td>\n",
       "      <td>NaN</td>\n",
       "    </tr>\n",
       "    <tr>\n",
       "      <th>top</th>\n",
       "      <td>Need for Speed: Most Wanted</td>\n",
       "      <td>DS</td>\n",
       "      <td>NaN</td>\n",
       "      <td>Action</td>\n",
       "      <td>Electronic Arts</td>\n",
       "      <td>NaN</td>\n",
       "      <td>NaN</td>\n",
       "      <td>NaN</td>\n",
       "      <td>NaN</td>\n",
       "      <td>NaN</td>\n",
       "    </tr>\n",
       "    <tr>\n",
       "      <th>freq</th>\n",
       "      <td>12</td>\n",
       "      <td>2132</td>\n",
       "      <td>NaN</td>\n",
       "      <td>3253</td>\n",
       "      <td>1375</td>\n",
       "      <td>NaN</td>\n",
       "      <td>NaN</td>\n",
       "      <td>NaN</td>\n",
       "      <td>NaN</td>\n",
       "      <td>NaN</td>\n",
       "    </tr>\n",
       "    <tr>\n",
       "      <th>mean</th>\n",
       "      <td>NaN</td>\n",
       "      <td>NaN</td>\n",
       "      <td>2006.405611</td>\n",
       "      <td>NaN</td>\n",
       "      <td>NaN</td>\n",
       "      <td>0.265415</td>\n",
       "      <td>0.147563</td>\n",
       "      <td>0.078667</td>\n",
       "      <td>0.048327</td>\n",
       "      <td>0.540247</td>\n",
       "    </tr>\n",
       "    <tr>\n",
       "      <th>std</th>\n",
       "      <td>NaN</td>\n",
       "      <td>NaN</td>\n",
       "      <td>5.828189</td>\n",
       "      <td>NaN</td>\n",
       "      <td>NaN</td>\n",
       "      <td>0.821616</td>\n",
       "      <td>0.508780</td>\n",
       "      <td>0.311566</td>\n",
       "      <td>0.189891</td>\n",
       "      <td>1.565779</td>\n",
       "    </tr>\n",
       "    <tr>\n",
       "      <th>min</th>\n",
       "      <td>NaN</td>\n",
       "      <td>NaN</td>\n",
       "      <td>1980.000000</td>\n",
       "      <td>NaN</td>\n",
       "      <td>NaN</td>\n",
       "      <td>0.000000</td>\n",
       "      <td>0.000000</td>\n",
       "      <td>0.000000</td>\n",
       "      <td>0.000000</td>\n",
       "      <td>0.010000</td>\n",
       "    </tr>\n",
       "    <tr>\n",
       "      <th>25%</th>\n",
       "      <td>NaN</td>\n",
       "      <td>NaN</td>\n",
       "      <td>2003.000000</td>\n",
       "      <td>NaN</td>\n",
       "      <td>NaN</td>\n",
       "      <td>0.000000</td>\n",
       "      <td>0.000000</td>\n",
       "      <td>0.000000</td>\n",
       "      <td>0.000000</td>\n",
       "      <td>0.060000</td>\n",
       "    </tr>\n",
       "    <tr>\n",
       "      <th>50%</th>\n",
       "      <td>NaN</td>\n",
       "      <td>NaN</td>\n",
       "      <td>2007.000000</td>\n",
       "      <td>NaN</td>\n",
       "      <td>NaN</td>\n",
       "      <td>0.080000</td>\n",
       "      <td>0.020000</td>\n",
       "      <td>0.000000</td>\n",
       "      <td>0.010000</td>\n",
       "      <td>0.170000</td>\n",
       "    </tr>\n",
       "    <tr>\n",
       "      <th>75%</th>\n",
       "      <td>NaN</td>\n",
       "      <td>NaN</td>\n",
       "      <td>2010.000000</td>\n",
       "      <td>NaN</td>\n",
       "      <td>NaN</td>\n",
       "      <td>0.240000</td>\n",
       "      <td>0.110000</td>\n",
       "      <td>0.040000</td>\n",
       "      <td>0.040000</td>\n",
       "      <td>0.480000</td>\n",
       "    </tr>\n",
       "    <tr>\n",
       "      <th>max</th>\n",
       "      <td>NaN</td>\n",
       "      <td>NaN</td>\n",
       "      <td>2017.000000</td>\n",
       "      <td>NaN</td>\n",
       "      <td>NaN</td>\n",
       "      <td>41.490000</td>\n",
       "      <td>29.020000</td>\n",
       "      <td>10.220000</td>\n",
       "      <td>10.570000</td>\n",
       "      <td>82.740000</td>\n",
       "    </tr>\n",
       "  </tbody>\n",
       "</table>\n",
       "</div>"
      ],
      "text/plain": [
       "                             Nombre Plataforma           Año  Genero  \\\n",
       "count                         16326      16326  16326.000000   16326   \n",
       "unique                        11359         31           NaN      12   \n",
       "top     Need for Speed: Most Wanted         DS           NaN  Action   \n",
       "freq                             12       2132           NaN    3253   \n",
       "mean                            NaN        NaN   2006.405611     NaN   \n",
       "std                             NaN        NaN      5.828189     NaN   \n",
       "min                             NaN        NaN   1980.000000     NaN   \n",
       "25%                             NaN        NaN   2003.000000     NaN   \n",
       "50%                             NaN        NaN   2007.000000     NaN   \n",
       "75%                             NaN        NaN   2010.000000     NaN   \n",
       "max                             NaN        NaN   2017.000000     NaN   \n",
       "\n",
       "              Editorial     Ventas NA     Ventas EU     Ventas JP  \\\n",
       "count             16326  16326.000000  16326.000000  16326.000000   \n",
       "unique              576           NaN           NaN           NaN   \n",
       "top     Electronic Arts           NaN           NaN           NaN   \n",
       "freq               1375           NaN           NaN           NaN   \n",
       "mean                NaN      0.265415      0.147563      0.078667   \n",
       "std                 NaN      0.821616      0.508780      0.311566   \n",
       "min                 NaN      0.000000      0.000000      0.000000   \n",
       "25%                 NaN      0.000000      0.000000      0.000000   \n",
       "50%                 NaN      0.080000      0.020000      0.000000   \n",
       "75%                 NaN      0.240000      0.110000      0.040000   \n",
       "max                 NaN     41.490000     29.020000     10.220000   \n",
       "\n",
       "        Ventas Otros  Ventas Global  \n",
       "count   16326.000000   16326.000000  \n",
       "unique           NaN            NaN  \n",
       "top              NaN            NaN  \n",
       "freq             NaN            NaN  \n",
       "mean        0.048327       0.540247  \n",
       "std         0.189891       1.565779  \n",
       "min         0.000000       0.010000  \n",
       "25%         0.000000       0.060000  \n",
       "50%         0.010000       0.170000  \n",
       "75%         0.040000       0.480000  \n",
       "max        10.570000      82.740000  "
      ]
     },
     "execution_count": 30,
     "metadata": {},
     "output_type": "execute_result"
    }
   ],
   "source": [
    "# ESTADISTICAS GENERALES\n",
    "\n",
    "juegos.describe(include = \"all\")"
   ]
  },
  {
   "cell_type": "code",
   "execution_count": 31,
   "id": "427149cd-7275-4e7f-8d27-9616ef081ee6",
   "metadata": {},
   "outputs": [
    {
     "name": "stdout",
     "output_type": "stream",
     "text": [
      "2006.4056106823473 Año\n",
      "0.2654146759769692 Ventas NA\n",
      "0.14756339581036382 Ventas EU\n",
      "0.0786665441626853 Ventas JP\n",
      "0.048327208134264374 Ventas Otros\n",
      "0.5402468455224795 Ventas Global\n"
     ]
    }
   ],
   "source": [
    "# MEDIAS POR COLUMNA \n",
    "\n",
    "numericas = juegos.select_dtypes(include = [\"float64\",\"int64\"]).columns\n",
    "for columna in juegos.columns:\n",
    "    if columna in numericas:\n",
    "        print(juegos[columna].mean(), columna)"
   ]
  },
  {
   "cell_type": "code",
   "execution_count": 32,
   "id": "9ccad2c8-e57c-4979-8142-294f05516ca9",
   "metadata": {},
   "outputs": [
    {
     "name": "stdout",
     "output_type": "stream",
     "text": [
      "2007.0 Año\n",
      "0.08 Ventas NA\n",
      "0.02 Ventas EU\n",
      "0.0 Ventas JP\n",
      "0.01 Ventas Otros\n",
      "0.17 Ventas Global\n"
     ]
    }
   ],
   "source": [
    "# MEDIANAS POR COLUMNA \n",
    "\n",
    "numericas = juegos.select_dtypes(include = [\"float64\",\"int64\"]).columns\n",
    "for columna in juegos.columns:\n",
    "    if columna in numericas:\n",
    "        print(juegos[columna].median(), columna)"
   ]
  },
  {
   "cell_type": "code",
   "execution_count": 33,
   "id": "041211d5-8de9-40ce-bbac-40fc82533aa8",
   "metadata": {},
   "outputs": [
    {
     "name": "stdout",
     "output_type": "stream",
     "text": [
      "0    2009\n",
      "Name: Año, dtype: int64\n",
      "0    0.0\n",
      "Name: Ventas NA, dtype: float64\n",
      "0    0.0\n",
      "Name: Ventas EU, dtype: float64\n",
      "0    0.0\n",
      "Name: Ventas JP, dtype: float64\n",
      "0    0.0\n",
      "Name: Ventas Otros, dtype: float64\n",
      "0    0.02\n",
      "Name: Ventas Global, dtype: float64\n"
     ]
    }
   ],
   "source": [
    "# MODAS POR COLUMNA \n",
    "\n",
    "numericas = juegos.select_dtypes(include = [\"float64\",\"int64\"]).columns\n",
    "for columna in juegos.columns:\n",
    "    if columna in numericas:\n",
    "        print(juegos[columna].mode())"
   ]
  },
  {
   "cell_type": "code",
   "execution_count": 34,
   "id": "2da3b550-20c1-4662-b877-2b944e292c5b",
   "metadata": {},
   "outputs": [
    {
     "data": {
      "text/html": [
       "<div>\n",
       "<style scoped>\n",
       "    .dataframe tbody tr th:only-of-type {\n",
       "        vertical-align: middle;\n",
       "    }\n",
       "\n",
       "    .dataframe tbody tr th {\n",
       "        vertical-align: top;\n",
       "    }\n",
       "\n",
       "    .dataframe thead th {\n",
       "        text-align: right;\n",
       "    }\n",
       "</style>\n",
       "<table border=\"1\" class=\"dataframe\">\n",
       "  <thead>\n",
       "    <tr style=\"text-align: right;\">\n",
       "      <th></th>\n",
       "      <th>Nombre</th>\n",
       "      <th>Plataforma</th>\n",
       "      <th>Año</th>\n",
       "      <th>Genero</th>\n",
       "      <th>Editorial</th>\n",
       "      <th>Ventas NA</th>\n",
       "      <th>Ventas EU</th>\n",
       "      <th>Ventas JP</th>\n",
       "      <th>Ventas Otros</th>\n",
       "      <th>Ventas Global</th>\n",
       "    </tr>\n",
       "  </thead>\n",
       "  <tbody>\n",
       "    <tr>\n",
       "      <th>count</th>\n",
       "      <td>16326</td>\n",
       "      <td>16326</td>\n",
       "      <td>16326.000000</td>\n",
       "      <td>16326</td>\n",
       "      <td>16326</td>\n",
       "      <td>16326.000000</td>\n",
       "      <td>16326.000000</td>\n",
       "      <td>16326.000000</td>\n",
       "      <td>16326.000000</td>\n",
       "      <td>16326.000000</td>\n",
       "    </tr>\n",
       "    <tr>\n",
       "      <th>unique</th>\n",
       "      <td>11359</td>\n",
       "      <td>31</td>\n",
       "      <td>NaN</td>\n",
       "      <td>12</td>\n",
       "      <td>576</td>\n",
       "      <td>NaN</td>\n",
       "      <td>NaN</td>\n",
       "      <td>NaN</td>\n",
       "      <td>NaN</td>\n",
       "      <td>NaN</td>\n",
       "    </tr>\n",
       "    <tr>\n",
       "      <th>top</th>\n",
       "      <td>Need for Speed: Most Wanted</td>\n",
       "      <td>DS</td>\n",
       "      <td>NaN</td>\n",
       "      <td>Action</td>\n",
       "      <td>Electronic Arts</td>\n",
       "      <td>NaN</td>\n",
       "      <td>NaN</td>\n",
       "      <td>NaN</td>\n",
       "      <td>NaN</td>\n",
       "      <td>NaN</td>\n",
       "    </tr>\n",
       "    <tr>\n",
       "      <th>freq</th>\n",
       "      <td>12</td>\n",
       "      <td>2132</td>\n",
       "      <td>NaN</td>\n",
       "      <td>3253</td>\n",
       "      <td>1375</td>\n",
       "      <td>NaN</td>\n",
       "      <td>NaN</td>\n",
       "      <td>NaN</td>\n",
       "      <td>NaN</td>\n",
       "      <td>NaN</td>\n",
       "    </tr>\n",
       "    <tr>\n",
       "      <th>mean</th>\n",
       "      <td>NaN</td>\n",
       "      <td>NaN</td>\n",
       "      <td>2006.405611</td>\n",
       "      <td>NaN</td>\n",
       "      <td>NaN</td>\n",
       "      <td>0.265415</td>\n",
       "      <td>0.147563</td>\n",
       "      <td>0.078667</td>\n",
       "      <td>0.048327</td>\n",
       "      <td>0.540247</td>\n",
       "    </tr>\n",
       "    <tr>\n",
       "      <th>std</th>\n",
       "      <td>NaN</td>\n",
       "      <td>NaN</td>\n",
       "      <td>5.828189</td>\n",
       "      <td>NaN</td>\n",
       "      <td>NaN</td>\n",
       "      <td>0.821616</td>\n",
       "      <td>0.508780</td>\n",
       "      <td>0.311566</td>\n",
       "      <td>0.189891</td>\n",
       "      <td>1.565779</td>\n",
       "    </tr>\n",
       "    <tr>\n",
       "      <th>min</th>\n",
       "      <td>NaN</td>\n",
       "      <td>NaN</td>\n",
       "      <td>1980.000000</td>\n",
       "      <td>NaN</td>\n",
       "      <td>NaN</td>\n",
       "      <td>0.000000</td>\n",
       "      <td>0.000000</td>\n",
       "      <td>0.000000</td>\n",
       "      <td>0.000000</td>\n",
       "      <td>0.010000</td>\n",
       "    </tr>\n",
       "    <tr>\n",
       "      <th>25%</th>\n",
       "      <td>NaN</td>\n",
       "      <td>NaN</td>\n",
       "      <td>2003.000000</td>\n",
       "      <td>NaN</td>\n",
       "      <td>NaN</td>\n",
       "      <td>0.000000</td>\n",
       "      <td>0.000000</td>\n",
       "      <td>0.000000</td>\n",
       "      <td>0.000000</td>\n",
       "      <td>0.060000</td>\n",
       "    </tr>\n",
       "    <tr>\n",
       "      <th>50%</th>\n",
       "      <td>NaN</td>\n",
       "      <td>NaN</td>\n",
       "      <td>2007.000000</td>\n",
       "      <td>NaN</td>\n",
       "      <td>NaN</td>\n",
       "      <td>0.080000</td>\n",
       "      <td>0.020000</td>\n",
       "      <td>0.000000</td>\n",
       "      <td>0.010000</td>\n",
       "      <td>0.170000</td>\n",
       "    </tr>\n",
       "    <tr>\n",
       "      <th>75%</th>\n",
       "      <td>NaN</td>\n",
       "      <td>NaN</td>\n",
       "      <td>2010.000000</td>\n",
       "      <td>NaN</td>\n",
       "      <td>NaN</td>\n",
       "      <td>0.240000</td>\n",
       "      <td>0.110000</td>\n",
       "      <td>0.040000</td>\n",
       "      <td>0.040000</td>\n",
       "      <td>0.480000</td>\n",
       "    </tr>\n",
       "    <tr>\n",
       "      <th>max</th>\n",
       "      <td>NaN</td>\n",
       "      <td>NaN</td>\n",
       "      <td>2017.000000</td>\n",
       "      <td>NaN</td>\n",
       "      <td>NaN</td>\n",
       "      <td>41.490000</td>\n",
       "      <td>29.020000</td>\n",
       "      <td>10.220000</td>\n",
       "      <td>10.570000</td>\n",
       "      <td>82.740000</td>\n",
       "    </tr>\n",
       "  </tbody>\n",
       "</table>\n",
       "</div>"
      ],
      "text/plain": [
       "                             Nombre Plataforma           Año  Genero  \\\n",
       "count                         16326      16326  16326.000000   16326   \n",
       "unique                        11359         31           NaN      12   \n",
       "top     Need for Speed: Most Wanted         DS           NaN  Action   \n",
       "freq                             12       2132           NaN    3253   \n",
       "mean                            NaN        NaN   2006.405611     NaN   \n",
       "std                             NaN        NaN      5.828189     NaN   \n",
       "min                             NaN        NaN   1980.000000     NaN   \n",
       "25%                             NaN        NaN   2003.000000     NaN   \n",
       "50%                             NaN        NaN   2007.000000     NaN   \n",
       "75%                             NaN        NaN   2010.000000     NaN   \n",
       "max                             NaN        NaN   2017.000000     NaN   \n",
       "\n",
       "              Editorial     Ventas NA     Ventas EU     Ventas JP  \\\n",
       "count             16326  16326.000000  16326.000000  16326.000000   \n",
       "unique              576           NaN           NaN           NaN   \n",
       "top     Electronic Arts           NaN           NaN           NaN   \n",
       "freq               1375           NaN           NaN           NaN   \n",
       "mean                NaN      0.265415      0.147563      0.078667   \n",
       "std                 NaN      0.821616      0.508780      0.311566   \n",
       "min                 NaN      0.000000      0.000000      0.000000   \n",
       "25%                 NaN      0.000000      0.000000      0.000000   \n",
       "50%                 NaN      0.080000      0.020000      0.000000   \n",
       "75%                 NaN      0.240000      0.110000      0.040000   \n",
       "max                 NaN     41.490000     29.020000     10.220000   \n",
       "\n",
       "        Ventas Otros  Ventas Global  \n",
       "count   16326.000000   16326.000000  \n",
       "unique           NaN            NaN  \n",
       "top              NaN            NaN  \n",
       "freq             NaN            NaN  \n",
       "mean        0.048327       0.540247  \n",
       "std         0.189891       1.565779  \n",
       "min         0.000000       0.010000  \n",
       "25%         0.000000       0.060000  \n",
       "50%         0.010000       0.170000  \n",
       "75%         0.040000       0.480000  \n",
       "max        10.570000      82.740000  "
      ]
     },
     "execution_count": 34,
     "metadata": {},
     "output_type": "execute_result"
    }
   ],
   "source": [
    "# ESTADISTICAS GENERALES\n",
    "\n",
    "juegos.describe(include = \"all\")"
   ]
  },
  {
   "cell_type": "markdown",
   "id": "fea8153f-624c-4205-93c9-89f2dcdd24cd",
   "metadata": {},
   "source": [
    "### GRÁFICOS"
   ]
  },
  {
   "cell_type": "code",
   "execution_count": 36,
   "id": "3aa05d4c-5593-44db-a2bd-59f67702e414",
   "metadata": {},
   "outputs": [
    {
     "data": {
      "text/plain": [
       "15"
      ]
     },
     "execution_count": 36,
     "metadata": {},
     "output_type": "execute_result"
    }
   ],
   "source": [
    "# INTERVALOS DE LA TABLA\n",
    "\n",
    "import numpy as np\n",
    "n = len(juegos)\n",
    "k = 1 + (10 /3) * np.log10(n)\n",
    "k = int(k.round(0))\n",
    "k"
   ]
  },
  {
   "cell_type": "code",
   "execution_count": 37,
   "id": "4748f5b2-0d82-4603-a926-17a2144f808c",
   "metadata": {},
   "outputs": [
    {
     "data": {
      "text/plain": [
       "Ventas Global\n",
       "(-0.0737, 5.525]    16166\n",
       "(5.525, 11.041]       109\n",
       "(11.041, 16.556]       28\n",
       "(16.556, 22.071]        9\n",
       "(22.071, 27.587]        4\n",
       "(27.587, 33.102]        7\n",
       "(33.102, 38.617]        1\n",
       "(38.617, 44.133]        1\n",
       "(44.133, 49.648]        0\n",
       "(49.648, 55.163]        0\n",
       "(55.163, 60.679]        0\n",
       "(60.679, 66.194]        0\n",
       "(66.194, 71.709]        0\n",
       "(71.709, 77.225]        0\n",
       "(77.225, 82.74]         1\n",
       "Name: count, dtype: int64"
      ]
     },
     "execution_count": 37,
     "metadata": {},
     "output_type": "execute_result"
    }
   ],
   "source": [
    "# INTERVALOS DE FRECUENCIA EN VENTAS \n",
    "\n",
    "frecuencia = pd.Series(pd.cut(\n",
    "    x = juegos[\"Ventas Global\"],\n",
    "    bins = k,\n",
    "    include_lowest = True\n",
    ")).value_counts(sort=False)\n",
    "frecuencia"
   ]
  },
  {
   "cell_type": "code",
   "execution_count": 38,
   "id": "195f6e6c-136f-43d0-b704-5977ee947129",
   "metadata": {},
   "outputs": [
    {
     "data": {
      "text/plain": [
       "Ventas Global\n",
       "(-0.0737, 5.525]    0.99\n",
       "(5.525, 11.041]     0.01\n",
       "(11.041, 16.556]    0.00\n",
       "(16.556, 22.071]    0.00\n",
       "(22.071, 27.587]    0.00\n",
       "(27.587, 33.102]    0.00\n",
       "(33.102, 38.617]    0.00\n",
       "(38.617, 44.133]    0.00\n",
       "(44.133, 49.648]    0.00\n",
       "(49.648, 55.163]    0.00\n",
       "(55.163, 60.679]    0.00\n",
       "(60.679, 66.194]    0.00\n",
       "(66.194, 71.709]    0.00\n",
       "(71.709, 77.225]    0.00\n",
       "(77.225, 82.74]     0.00\n",
       "Name: proportion, dtype: float64"
      ]
     },
     "execution_count": 38,
     "metadata": {},
     "output_type": "execute_result"
    }
   ],
   "source": [
    "# FRECUENCIA PORCENTUAL ENTRE INTERVALOS\n",
    "\n",
    "porcentual = pd.Series(pd.cut(\n",
    "    x = juegos[\"Ventas Global\"],\n",
    "    bins = k,\n",
    "    include_lowest = True\n",
    ")).value_counts(normalize=True, sort=False).round(2)\n",
    "porcentual"
   ]
  },
  {
   "cell_type": "code",
   "execution_count": 39,
   "id": "7fa8c47c-ebf1-4c65-84a8-99914182ef52",
   "metadata": {},
   "outputs": [
    {
     "data": {
      "text/html": [
       "<div>\n",
       "<style scoped>\n",
       "    .dataframe tbody tr th:only-of-type {\n",
       "        vertical-align: middle;\n",
       "    }\n",
       "\n",
       "    .dataframe tbody tr th {\n",
       "        vertical-align: top;\n",
       "    }\n",
       "\n",
       "    .dataframe thead th {\n",
       "        text-align: right;\n",
       "    }\n",
       "</style>\n",
       "<table border=\"1\" class=\"dataframe\">\n",
       "  <thead>\n",
       "    <tr style=\"text-align: right;\">\n",
       "      <th></th>\n",
       "      <th>Frecuencia</th>\n",
       "      <th>Porcentual (%)</th>\n",
       "    </tr>\n",
       "    <tr>\n",
       "      <th>Ventas Global</th>\n",
       "      <th></th>\n",
       "      <th></th>\n",
       "    </tr>\n",
       "  </thead>\n",
       "  <tbody>\n",
       "    <tr>\n",
       "      <th>(-0.0737, 5.525]</th>\n",
       "      <td>16166</td>\n",
       "      <td>0.99</td>\n",
       "    </tr>\n",
       "    <tr>\n",
       "      <th>(5.525, 11.041]</th>\n",
       "      <td>109</td>\n",
       "      <td>0.01</td>\n",
       "    </tr>\n",
       "    <tr>\n",
       "      <th>(11.041, 16.556]</th>\n",
       "      <td>28</td>\n",
       "      <td>0.00</td>\n",
       "    </tr>\n",
       "    <tr>\n",
       "      <th>(16.556, 22.071]</th>\n",
       "      <td>9</td>\n",
       "      <td>0.00</td>\n",
       "    </tr>\n",
       "    <tr>\n",
       "      <th>(22.071, 27.587]</th>\n",
       "      <td>4</td>\n",
       "      <td>0.00</td>\n",
       "    </tr>\n",
       "    <tr>\n",
       "      <th>(27.587, 33.102]</th>\n",
       "      <td>7</td>\n",
       "      <td>0.00</td>\n",
       "    </tr>\n",
       "    <tr>\n",
       "      <th>(33.102, 38.617]</th>\n",
       "      <td>1</td>\n",
       "      <td>0.00</td>\n",
       "    </tr>\n",
       "    <tr>\n",
       "      <th>(38.617, 44.133]</th>\n",
       "      <td>1</td>\n",
       "      <td>0.00</td>\n",
       "    </tr>\n",
       "    <tr>\n",
       "      <th>(44.133, 49.648]</th>\n",
       "      <td>0</td>\n",
       "      <td>0.00</td>\n",
       "    </tr>\n",
       "    <tr>\n",
       "      <th>(49.648, 55.163]</th>\n",
       "      <td>0</td>\n",
       "      <td>0.00</td>\n",
       "    </tr>\n",
       "    <tr>\n",
       "      <th>(55.163, 60.679]</th>\n",
       "      <td>0</td>\n",
       "      <td>0.00</td>\n",
       "    </tr>\n",
       "    <tr>\n",
       "      <th>(60.679, 66.194]</th>\n",
       "      <td>0</td>\n",
       "      <td>0.00</td>\n",
       "    </tr>\n",
       "    <tr>\n",
       "      <th>(66.194, 71.709]</th>\n",
       "      <td>0</td>\n",
       "      <td>0.00</td>\n",
       "    </tr>\n",
       "    <tr>\n",
       "      <th>(71.709, 77.225]</th>\n",
       "      <td>0</td>\n",
       "      <td>0.00</td>\n",
       "    </tr>\n",
       "    <tr>\n",
       "      <th>(77.225, 82.74]</th>\n",
       "      <td>1</td>\n",
       "      <td>0.00</td>\n",
       "    </tr>\n",
       "  </tbody>\n",
       "</table>\n",
       "</div>"
      ],
      "text/plain": [
       "                  Frecuencia  Porcentual (%)\n",
       "Ventas Global                               \n",
       "(-0.0737, 5.525]       16166            0.99\n",
       "(5.525, 11.041]          109            0.01\n",
       "(11.041, 16.556]          28            0.00\n",
       "(16.556, 22.071]           9            0.00\n",
       "(22.071, 27.587]           4            0.00\n",
       "(27.587, 33.102]           7            0.00\n",
       "(33.102, 38.617]           1            0.00\n",
       "(38.617, 44.133]           1            0.00\n",
       "(44.133, 49.648]           0            0.00\n",
       "(49.648, 55.163]           0            0.00\n",
       "(55.163, 60.679]           0            0.00\n",
       "(60.679, 66.194]           0            0.00\n",
       "(66.194, 71.709]           0            0.00\n",
       "(71.709, 77.225]           0            0.00\n",
       "(77.225, 82.74]            1            0.00"
      ]
     },
     "execution_count": 39,
     "metadata": {},
     "output_type": "execute_result"
    }
   ],
   "source": [
    "# FRECUENCIA ABSOLUTA Y PORCENTUAL \n",
    "\n",
    "dist_frec_cuantitativas = pd.DataFrame({'Frecuencia': frecuencia, 'Porcentual (%)': porcentual})\n",
    "dist_frec_cuantitativas"
   ]
  },
  {
   "cell_type": "code",
   "execution_count": 40,
   "id": "127f3194-d70a-41af-ab91-5978a634563f",
   "metadata": {},
   "outputs": [
    {
     "data": {
      "image/png": "[encoded data removed]",
      "text/plain": [
       "<Figure size 1000x300 with 1 Axes>"
      ]
     },
     "metadata": {},
     "output_type": "display_data"
    }
   ],
   "source": [
    "# HISTOGRAMA CON LAS FRECUENCIAS \n",
    "\n",
    "ax = sns.displot(juegos[\"Ventas Global\"], kde = True, bins = 15)\n",
    "ax.figure.set_size_inches(10, 3)\n",
    "ax.set_titles('Distribución de Frecuencias - Altura', fontsize=18)\n",
    "ax.set_xlabels('Millones', fontsize=14);"
   ]
  },
  {
   "cell_type": "code",
   "execution_count": 41,
   "id": "e1cebdc1-ce53-4cd9-8890-704ad80000d8",
   "metadata": {},
   "outputs": [
    {
     "name": "stderr",
     "output_type": "stream",
     "text": [
      "C:\\Users\\Julian\\AppData\\Local\\Temp\\ipykernel_2340\\3906682869.py:4: UserWarning: \n",
      "The palette list has fewer values (8) than needed (12) and will cycle, which may produce an uninterpretable plot.\n",
      "  sns.barplot(x= generos.index, y= generos.values, hue= generos.index, palette=colores_personalizados)\n"
     ]
    },
    {
     "data": {
      "image/png": "[encoded data removed]",
      "text/plain": [
       "<Figure size 700x500 with 1 Axes>"
      ]
     },
     "metadata": {},
     "output_type": "display_data"
    }
   ],
   "source": [
    "# GRÁFICO DE BARRAS POR GÉNERO \n",
    "colores_personalizados = ['red', 'blue', 'green', 'orange', \"black\", \"pink\", \"yellow\", \"gold\"]\n",
    "plt.figure(figsize=(7, 5))\n",
    "sns.barplot(x= generos.index, y= generos.values, hue= generos.index, palette=colores_personalizados)\n",
    "plt.title('Gráfico de Barras con Colores Personalizados')\n",
    "plt.xlabel('Generos')\n",
    "plt.ylabel('Porcentajes')\n",
    "plt.xticks(rotation=40)\n",
    "plt.show()"
   ]
  },
  {
   "cell_type": "code",
   "execution_count": null,
   "id": "3f8dd247-6ba3-43d6-9d14-d91cb94c9283",
   "metadata": {},
   "outputs": [],
   "source": []
  }
 ],
 "metadata": {
  "kernelspec": {
   "display_name": "Python 3 (ipykernel)",
   "language": "python",
   "name": "python3"
  },
  "language_info": {
   "codemirror_mode": {
    "name": "ipython",
    "version": 3
   },
   "file_extension": ".py",
   "mimetype": "text/x-python",
   "name": "python",
   "nbconvert_exporter": "python",
   "pygments_lexer": "ipython3",
   "version": "3.12.4"
  }
 },
 "nbformat": 4,
 "nbformat_minor": 5
}
