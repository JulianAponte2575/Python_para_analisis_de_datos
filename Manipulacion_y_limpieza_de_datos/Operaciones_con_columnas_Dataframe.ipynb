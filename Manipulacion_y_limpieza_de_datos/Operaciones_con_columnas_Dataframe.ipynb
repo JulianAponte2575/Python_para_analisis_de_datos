{
 "cells": [
  {
   "cell_type": "markdown",
   "id": "c4429a31-f414-4ab1-8489-2ce5c141feee",
   "metadata": {},
   "source": [
    "# TRATAMIENTO DE DATOS CON DATOS SIMULADOS \n",
    "\n",
    "Se mostrará el uso de datos simulados y su tratamiento para hacer cálculos, gráficos y demás. "
   ]
  },
  {
   "cell_type": "code",
   "execution_count": 6,
   "id": "aaa05474-0637-46d0-b1fa-68f9563386ca",
   "metadata": {},
   "outputs": [],
   "source": [
    "# IMPORTACIÓN DE LIBRERIAS\n",
    "\n",
    "import pandas as pd\n",
    "import numpy as np\n",
    "import matplotlib.pyplot as plt"
   ]
  },
  {
   "cell_type": "code",
   "execution_count": 8,
   "id": "ab38680b-f001-4ea1-8875-669bad2f51a2",
   "metadata": {},
   "outputs": [
    {
     "data": {
      "text/html": [
       "<div>\n",
       "<style scoped>\n",
       "    .dataframe tbody tr th:only-of-type {\n",
       "        vertical-align: middle;\n",
       "    }\n",
       "\n",
       "    .dataframe tbody tr th {\n",
       "        vertical-align: top;\n",
       "    }\n",
       "\n",
       "    .dataframe thead th {\n",
       "        text-align: right;\n",
       "    }\n",
       "</style>\n",
       "<table border=\"1\" class=\"dataframe\">\n",
       "  <thead>\n",
       "    <tr style=\"text-align: right;\">\n",
       "      <th></th>\n",
       "      <th>Fecha</th>\n",
       "      <th>Producto</th>\n",
       "      <th>Precio</th>\n",
       "      <th>Cantidad</th>\n",
       "      <th>Ciudad</th>\n",
       "    </tr>\n",
       "  </thead>\n",
       "  <tbody>\n",
       "    <tr>\n",
       "      <th>0</th>\n",
       "      <td>2023-01-01</td>\n",
       "      <td>Zapatos</td>\n",
       "      <td>43.801643</td>\n",
       "      <td>1</td>\n",
       "      <td>Valencia</td>\n",
       "    </tr>\n",
       "    <tr>\n",
       "      <th>1</th>\n",
       "      <td>2023-01-02</td>\n",
       "      <td>Zapatos</td>\n",
       "      <td>16.643537</td>\n",
       "      <td>9</td>\n",
       "      <td>Madrid</td>\n",
       "    </tr>\n",
       "    <tr>\n",
       "      <th>2</th>\n",
       "      <td>2023-01-03</td>\n",
       "      <td>Zapatos</td>\n",
       "      <td>52.868463</td>\n",
       "      <td>9</td>\n",
       "      <td>Valencia</td>\n",
       "    </tr>\n",
       "    <tr>\n",
       "      <th>3</th>\n",
       "      <td>2023-01-04</td>\n",
       "      <td>Camisa</td>\n",
       "      <td>94.000011</td>\n",
       "      <td>7</td>\n",
       "      <td>Valencia</td>\n",
       "    </tr>\n",
       "    <tr>\n",
       "      <th>4</th>\n",
       "      <td>2023-01-05</td>\n",
       "      <td>Zapatos</td>\n",
       "      <td>69.211084</td>\n",
       "      <td>6</td>\n",
       "      <td>Barcelona</td>\n",
       "    </tr>\n",
       "    <tr>\n",
       "      <th>...</th>\n",
       "      <td>...</td>\n",
       "      <td>...</td>\n",
       "      <td>...</td>\n",
       "      <td>...</td>\n",
       "      <td>...</td>\n",
       "    </tr>\n",
       "    <tr>\n",
       "      <th>360</th>\n",
       "      <td>2023-12-27</td>\n",
       "      <td>Pantalón</td>\n",
       "      <td>34.138659</td>\n",
       "      <td>7</td>\n",
       "      <td>Madrid</td>\n",
       "    </tr>\n",
       "    <tr>\n",
       "      <th>361</th>\n",
       "      <td>2023-12-28</td>\n",
       "      <td>Pantalón</td>\n",
       "      <td>25.838038</td>\n",
       "      <td>3</td>\n",
       "      <td>Barcelona</td>\n",
       "    </tr>\n",
       "    <tr>\n",
       "      <th>362</th>\n",
       "      <td>2023-12-29</td>\n",
       "      <td>Zapatos</td>\n",
       "      <td>10.642274</td>\n",
       "      <td>4</td>\n",
       "      <td>Madrid</td>\n",
       "    </tr>\n",
       "    <tr>\n",
       "      <th>363</th>\n",
       "      <td>2023-12-30</td>\n",
       "      <td>Camisa</td>\n",
       "      <td>86.628781</td>\n",
       "      <td>3</td>\n",
       "      <td>Barcelona</td>\n",
       "    </tr>\n",
       "    <tr>\n",
       "      <th>364</th>\n",
       "      <td>2023-12-31</td>\n",
       "      <td>Camisa</td>\n",
       "      <td>41.279950</td>\n",
       "      <td>6</td>\n",
       "      <td>Madrid</td>\n",
       "    </tr>\n",
       "  </tbody>\n",
       "</table>\n",
       "<p>365 rows × 5 columns</p>\n",
       "</div>"
      ],
      "text/plain": [
       "         Fecha  Producto     Precio  Cantidad     Ciudad\n",
       "0   2023-01-01   Zapatos  43.801643         1   Valencia\n",
       "1   2023-01-02   Zapatos  16.643537         9     Madrid\n",
       "2   2023-01-03   Zapatos  52.868463         9   Valencia\n",
       "3   2023-01-04    Camisa  94.000011         7   Valencia\n",
       "4   2023-01-05   Zapatos  69.211084         6  Barcelona\n",
       "..         ...       ...        ...       ...        ...\n",
       "360 2023-12-27  Pantalón  34.138659         7     Madrid\n",
       "361 2023-12-28  Pantalón  25.838038         3  Barcelona\n",
       "362 2023-12-29   Zapatos  10.642274         4     Madrid\n",
       "363 2023-12-30    Camisa  86.628781         3  Barcelona\n",
       "364 2023-12-31    Camisa  41.279950         6     Madrid\n",
       "\n",
       "[365 rows x 5 columns]"
      ]
     },
     "execution_count": 8,
     "metadata": {},
     "output_type": "execute_result"
    }
   ],
   "source": [
    "# GENERACIÓN DE DATOS SIMULADOS \n",
    "\n",
    "data = {'Fecha': pd.date_range(start='2023-01-01', end='2023-12-31'),\n",
    "        'Producto': np.random.choice(['Camisa', 'Pantalón', 'Zapatos'], size=365),\n",
    "        'Precio': np.random.uniform(10, 100, size=365),\n",
    "        'Cantidad': np.random.randint(1, 10, size=365),\n",
    "        'Ciudad': np.random.choice(['Madrid', 'Barcelona', 'Valencia'], size=365)}\n",
    "df = pd.DataFrame(data)\n",
    "df"
   ]
  },
  {
   "cell_type": "code",
   "execution_count": 10,
   "id": "5eb7210c-3a90-4e88-8999-0d49f2c6ad31",
   "metadata": {},
   "outputs": [
    {
     "name": "stdout",
     "output_type": "stream",
     "text": [
      "<class 'pandas.core.frame.DataFrame'>\n",
      "RangeIndex: 365 entries, 0 to 364\n",
      "Data columns (total 5 columns):\n",
      " #   Column    Non-Null Count  Dtype         \n",
      "---  ------    --------------  -----         \n",
      " 0   Fecha     365 non-null    datetime64[ns]\n",
      " 1   Producto  365 non-null    object        \n",
      " 2   Precio    365 non-null    float64       \n",
      " 3   Cantidad  365 non-null    int32         \n",
      " 4   Ciudad    365 non-null    object        \n",
      "dtypes: datetime64[ns](1), float64(1), int32(1), object(2)\n",
      "memory usage: 13.0+ KB\n"
     ]
    }
   ],
   "source": [
    "# INFORMACIÓN DE COLUMNAS \n",
    "\n",
    "df.info()"
   ]
  },
  {
   "cell_type": "code",
   "execution_count": 12,
   "id": "f085df3a-7c96-40a4-980d-7197a1d9aef5",
   "metadata": {},
   "outputs": [
    {
     "data": {
      "text/plain": [
       "Fecha       0\n",
       "Producto    0\n",
       "Precio      0\n",
       "Cantidad    0\n",
       "Ciudad      0\n",
       "dtype: int64"
      ]
     },
     "execution_count": 12,
     "metadata": {},
     "output_type": "execute_result"
    }
   ],
   "source": [
    "#VERIFICACIÓN Y CONTEO DE NULOS \n",
    "\n",
    "df.isna().sum()"
   ]
  },
  {
   "cell_type": "code",
   "execution_count": 14,
   "id": "71172d43-2956-4a98-8f2b-d4415407d19f",
   "metadata": {},
   "outputs": [
    {
     "data": {
      "text/html": [
       "<div>\n",
       "<style scoped>\n",
       "    .dataframe tbody tr th:only-of-type {\n",
       "        vertical-align: middle;\n",
       "    }\n",
       "\n",
       "    .dataframe tbody tr th {\n",
       "        vertical-align: top;\n",
       "    }\n",
       "\n",
       "    .dataframe thead th {\n",
       "        text-align: right;\n",
       "    }\n",
       "</style>\n",
       "<table border=\"1\" class=\"dataframe\">\n",
       "  <thead>\n",
       "    <tr style=\"text-align: right;\">\n",
       "      <th></th>\n",
       "      <th>Fecha</th>\n",
       "      <th>Precio</th>\n",
       "      <th>Cantidad</th>\n",
       "    </tr>\n",
       "  </thead>\n",
       "  <tbody>\n",
       "    <tr>\n",
       "      <th>count</th>\n",
       "      <td>365</td>\n",
       "      <td>365.000000</td>\n",
       "      <td>365.000000</td>\n",
       "    </tr>\n",
       "    <tr>\n",
       "      <th>mean</th>\n",
       "      <td>2023-07-02 00:00:00</td>\n",
       "      <td>55.496262</td>\n",
       "      <td>5.008219</td>\n",
       "    </tr>\n",
       "    <tr>\n",
       "      <th>min</th>\n",
       "      <td>2023-01-01 00:00:00</td>\n",
       "      <td>10.011913</td>\n",
       "      <td>1.000000</td>\n",
       "    </tr>\n",
       "    <tr>\n",
       "      <th>25%</th>\n",
       "      <td>2023-04-02 00:00:00</td>\n",
       "      <td>34.138659</td>\n",
       "      <td>3.000000</td>\n",
       "    </tr>\n",
       "    <tr>\n",
       "      <th>50%</th>\n",
       "      <td>2023-07-02 00:00:00</td>\n",
       "      <td>55.512967</td>\n",
       "      <td>5.000000</td>\n",
       "    </tr>\n",
       "    <tr>\n",
       "      <th>75%</th>\n",
       "      <td>2023-10-01 00:00:00</td>\n",
       "      <td>79.000376</td>\n",
       "      <td>7.000000</td>\n",
       "    </tr>\n",
       "    <tr>\n",
       "      <th>max</th>\n",
       "      <td>2023-12-31 00:00:00</td>\n",
       "      <td>98.920184</td>\n",
       "      <td>9.000000</td>\n",
       "    </tr>\n",
       "    <tr>\n",
       "      <th>std</th>\n",
       "      <td>NaN</td>\n",
       "      <td>26.050595</td>\n",
       "      <td>2.581089</td>\n",
       "    </tr>\n",
       "  </tbody>\n",
       "</table>\n",
       "</div>"
      ],
      "text/plain": [
       "                     Fecha      Precio    Cantidad\n",
       "count                  365  365.000000  365.000000\n",
       "mean   2023-07-02 00:00:00   55.496262    5.008219\n",
       "min    2023-01-01 00:00:00   10.011913    1.000000\n",
       "25%    2023-04-02 00:00:00   34.138659    3.000000\n",
       "50%    2023-07-02 00:00:00   55.512967    5.000000\n",
       "75%    2023-10-01 00:00:00   79.000376    7.000000\n",
       "max    2023-12-31 00:00:00   98.920184    9.000000\n",
       "std                    NaN   26.050595    2.581089"
      ]
     },
     "execution_count": 14,
     "metadata": {},
     "output_type": "execute_result"
    }
   ],
   "source": [
    "# DESCRIPCIÓN DE COLUMNAS NÚMERICAS\n",
    "\n",
    "df.describe()"
   ]
  },
  {
   "cell_type": "code",
   "execution_count": 16,
   "id": "e6c84e34-e633-4b17-911d-c5f20fb6ba15",
   "metadata": {},
   "outputs": [
    {
     "data": {
      "text/plain": [
       "Producto\n",
       "Pantalón    628\n",
       "Camisa      613\n",
       "Zapatos     587\n",
       "Name: Cantidad, dtype: int32"
      ]
     },
     "execution_count": 16,
     "metadata": {},
     "output_type": "execute_result"
    }
   ],
   "source": [
    "# SUMA DE CANTIDADES VENDIDAS POR PRODUCTO\n",
    "\n",
    "suma_producto = df.groupby([\"Producto\"])[\"Cantidad\"].sum().sort_values(ascending = False)\n",
    "suma_producto"
   ]
  },
  {
   "cell_type": "code",
   "execution_count": 18,
   "id": "338270d5-c97e-4cb5-b449-41348c6c3096",
   "metadata": {},
   "outputs": [
    {
     "data": {
      "text/plain": [
       "Producto\n",
       "Camisa      54.952641\n",
       "Pantalón    55.224889\n",
       "Zapatos     56.427707\n",
       "Name: Precio, dtype: float64"
      ]
     },
     "execution_count": 18,
     "metadata": {},
     "output_type": "execute_result"
    }
   ],
   "source": [
    "# PROMEDIO DE PRECIO POR PRODUCTO \n",
    "\n",
    "precio_promedio = df.groupby([\"Producto\"])[\"Precio\"].mean()\n",
    "precio_promedio"
   ]
  },
  {
   "cell_type": "code",
   "execution_count": 20,
   "id": "19569500-a656-4ac8-a492-79f33ed4ad06",
   "metadata": {},
   "outputs": [
    {
     "data": {
      "text/plain": [
       "Ciudad\n",
       "Barcelona    621\n",
       "Madrid       526\n",
       "Valencia     681\n",
       "Name: Cantidad, dtype: int32"
      ]
     },
     "execution_count": 20,
     "metadata": {},
     "output_type": "execute_result"
    }
   ],
   "source": [
    "# SUMA DE VENTAS POR CIUDAD\n",
    "\n",
    "ventas_ciudad = df.groupby([\"Ciudad\"])[\"Cantidad\"].sum()\n",
    "ventas_ciudad"
   ]
  },
  {
   "cell_type": "code",
   "execution_count": 22,
   "id": "dce5362d-87ec-4004-a6b4-7e05613b03c2",
   "metadata": {},
   "outputs": [
    {
     "data": {
      "text/plain": [
       "Cantidad\n",
       "1    54.464505\n",
       "2    55.732203\n",
       "3    54.643607\n",
       "4    57.729991\n",
       "5    52.977082\n",
       "6    58.199603\n",
       "7    55.862283\n",
       "8    59.835214\n",
       "9    51.692148\n",
       "Name: Precio, dtype: float64"
      ]
     },
     "execution_count": 22,
     "metadata": {},
     "output_type": "execute_result"
    }
   ],
   "source": [
    "# PROMEDIO DE PRECIO POR UNIDADES VENDIDAS \n",
    "\n",
    "promedio_precio_cantidad =df.groupby([\"Cantidad\"])[\"Precio\"].mean()\n",
    "promedio_precio_cantidad"
   ]
  },
  {
   "cell_type": "code",
   "execution_count": 26,
   "id": "72c1e37e-c01a-4945-b52c-e6b2ffc30a18",
   "metadata": {},
   "outputs": [
    {
     "data": {
      "text/plain": [
       "Fecha\n",
       "2023-01-31    161\n",
       "2023-02-28    134\n",
       "2023-03-31    150\n",
       "2023-04-30    164\n",
       "2023-05-31    170\n",
       "2023-06-30    139\n",
       "2023-07-31    138\n",
       "2023-08-31    139\n",
       "2023-09-30    185\n",
       "2023-10-31    155\n",
       "2023-11-30    148\n",
       "2023-12-31    145\n",
       "Freq: ME, Name: Cantidad, dtype: int32"
      ]
     },
     "execution_count": 26,
     "metadata": {},
     "output_type": "execute_result"
    }
   ],
   "source": [
    "# VENTAS POR MES FORMA 1 (AGRUPANDO FECHAS)\n",
    "\n",
    "ventas_por_mes = df.groupby(pd.Grouper(key='Fecha', freq='ME'))['Cantidad'].sum()\n",
    "ventas_por_mes"
   ]
  },
  {
   "cell_type": "code",
   "execution_count": 30,
   "id": "740fde87-ceaa-492d-aa86-867ccf0384dc",
   "metadata": {},
   "outputs": [
    {
     "data": {
      "text/plain": [
       "Mes\n",
       "1     161\n",
       "2     134\n",
       "3     150\n",
       "4     164\n",
       "5     170\n",
       "6     139\n",
       "7     138\n",
       "8     139\n",
       "9     185\n",
       "10    155\n",
       "11    148\n",
       "12    145\n",
       "Name: Cantidad, dtype: int32"
      ]
     },
     "execution_count": 30,
     "metadata": {},
     "output_type": "execute_result"
    }
   ],
   "source": [
    "# VENTAS POR MES FORMA 2 (CREANDO NUEVA COLUMNA)\n",
    "\n",
    "df[\"Mes\"] = df[\"Fecha\"].dt.month\n",
    "ventas_por_mes = df.groupby(\"Mes\")['Cantidad'].sum()\n",
    "ventas_por_mes"
   ]
  }
 ],
 "metadata": {
  "kernelspec": {
   "display_name": "Python 3 (ipykernel)",
   "language": "python",
   "name": "python3"
  },
  "language_info": {
   "codemirror_mode": {
    "name": "ipython",
    "version": 3
   },
   "file_extension": ".py",
   "mimetype": "text/x-python",
   "name": "python",
   "nbconvert_exporter": "python",
   "pygments_lexer": "ipython3",
   "version": "3.12.4"
  }
 },
 "nbformat": 4,
 "nbformat_minor": 5
}
