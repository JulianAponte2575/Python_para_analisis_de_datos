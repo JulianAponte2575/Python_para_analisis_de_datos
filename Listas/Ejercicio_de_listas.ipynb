{
 "cells": [
  {
   "cell_type": "markdown",
   "id": "3d2b95b1-92b1-42d3-9465-ad88b09cbd94",
   "metadata": {},
   "source": [
    "# EJERCICIO CON LISTAS EN PYTHON"
   ]
  },
  {
   "cell_type": "markdown",
   "id": "7f0dbfe1-75fd-4034-bf7b-cceb38ad1661",
   "metadata": {},
   "source": [
    "Este cuaderno busca realizar algunos métodos con listas y crear un Dataframe posteriormente."
   ]
  },
  {
   "cell_type": "code",
   "execution_count": 3,
   "id": "da3e9b7d-426b-419c-9675-08f044a2997f",
   "metadata": {},
   "outputs": [],
   "source": [
    "# LISTA CON INTEGRANTES DE LA FAMILIA, EDAD Y UN DATO BOLEANO\n",
    "\n",
    "m1 = [\"maria\",54, False]\n",
    "p1 = [\"jairo\",54, True]\n",
    "h1 = [\"andres\",18, False]\n",
    "h2 = [\"julian\",25, False]\n",
    "h3 = [\"katherine\",33, False]"
   ]
  },
  {
   "cell_type": "code",
   "execution_count": 4,
   "id": "5127d843-149b-4ae6-8c78-2ec58ef197dd",
   "metadata": {},
   "outputs": [
    {
     "data": {
      "text/plain": [
       "[['maria', 54, False],\n",
       " ['jairo', 54, True],\n",
       " ['andres', 18, False],\n",
       " ['julian', 25, False],\n",
       " ['katherine', 33, False]]"
      ]
     },
     "execution_count": 4,
     "metadata": {},
     "output_type": "execute_result"
    }
   ],
   "source": [
    "# UNINIÓN DE LISTA DE UNA DIMENSIÓN PARA HACER UNA DE TRES DIMENSIONES\n",
    "\n",
    "lista_familia = [m1,p1,h1,h2,h3]\n",
    "lista_familia"
   ]
  },
  {
   "cell_type": "code",
   "execution_count": 5,
   "id": "6e339d1a-08a3-4fa5-ac6b-0d26e4e77ca3",
   "metadata": {},
   "outputs": [
    {
     "data": {
      "text/plain": [
       "(['maria', 54, False], ['andres', 18, False])"
      ]
     },
     "execution_count": 5,
     "metadata": {},
     "output_type": "execute_result"
    }
   ],
   "source": [
    "# EXTRAER DOS FILAS EN CONCRETO \n",
    "\n",
    "lista_familia[0],lista_familia[2]"
   ]
  },
  {
   "cell_type": "code",
   "execution_count": 6,
   "id": "b6e1142d-d64c-4edc-a7f2-d652fdc21711",
   "metadata": {},
   "outputs": [
    {
     "data": {
      "text/plain": [
       "(['maria', 54, False], ['andres', 18, False])"
      ]
     },
     "execution_count": 6,
     "metadata": {},
     "output_type": "execute_result"
    }
   ],
   "source": [
    "# EXTRAER DOS FILAS EN CONCRETO\n",
    "\n",
    "lista_familia[0],lista_familia[2]"
   ]
  },
  {
   "cell_type": "code",
   "execution_count": 7,
   "id": "70a76cca-e0f6-4897-b6e6-7b4d8799d4f8",
   "metadata": {},
   "outputs": [
    {
     "data": {
      "text/plain": [
       "[['jairo', 54, True], ['andres', 18, False], ['julian', 25, False]]"
      ]
     },
     "execution_count": 7,
     "metadata": {},
     "output_type": "execute_result"
    }
   ],
   "source": [
    "# EXTRAER TODOS LOS ELEMENTOS DEL 2 AL 3\n",
    "\n",
    "lista_familia[1:4]"
   ]
  },
  {
   "cell_type": "code",
   "execution_count": 8,
   "id": "ced8d8b5-4bef-4e06-976e-09762368ec94",
   "metadata": {},
   "outputs": [
    {
     "data": {
      "text/plain": [
       "[['maria', 54, False], ['jairo', 54, True], ['andres', 18, False]]"
      ]
     },
     "execution_count": 8,
     "metadata": {},
     "output_type": "execute_result"
    }
   ],
   "source": [
    "# EXTRAER TODOS LOS ELEMENTOS DEL 0 AL 2 \n",
    "\n",
    "lista_familia[0:3]"
   ]
  },
  {
   "cell_type": "code",
   "execution_count": 9,
   "id": "028a61cf-0af0-4c91-82b2-fea99bbf54f4",
   "metadata": {},
   "outputs": [
    {
     "data": {
      "text/plain": [
       "[['maria', 54, False],\n",
       " ['jairo', 54, True],\n",
       " ['andres', 18, False],\n",
       " ['julian', 25, False],\n",
       " ['katherine', 33, False]]"
      ]
     },
     "execution_count": 9,
     "metadata": {},
     "output_type": "execute_result"
    }
   ],
   "source": [
    "# EXTRAER TODOS LOS ELEMENTOS DE LA FILA\n",
    "\n",
    "lista_familia[0:5]"
   ]
  },
  {
   "cell_type": "code",
   "execution_count": 10,
   "id": "39baa152-ba79-4f0a-91df-e39585c555bb",
   "metadata": {},
   "outputs": [
    {
     "data": {
      "text/plain": [
       "['jairo', 54, True]"
      ]
     },
     "execution_count": 10,
     "metadata": {},
     "output_type": "execute_result"
    }
   ],
   "source": [
    "p1"
   ]
  },
  {
   "cell_type": "code",
   "execution_count": 11,
   "id": "f8f8a413-5401-495f-b567-bd084f2cfb5d",
   "metadata": {},
   "outputs": [
    {
     "data": {
      "text/plain": [
       "['jairo', 54, True, 'Julio']"
      ]
     },
     "execution_count": 11,
     "metadata": {},
     "output_type": "execute_result"
    }
   ],
   "source": [
    "# AGREGAR UN ELEMENTO A UNA LISTA DE UNA DIMENSIÓN \n",
    "\n",
    "p1.append(\"Julio\")\n",
    "p1"
   ]
  },
  {
   "cell_type": "code",
   "execution_count": 12,
   "id": "21a76133-2d22-4c89-83a5-41ccba907a70",
   "metadata": {},
   "outputs": [
    {
     "data": {
      "text/plain": [
       "['maria', 54, False, 'octubre']"
      ]
     },
     "execution_count": 12,
     "metadata": {},
     "output_type": "execute_result"
    }
   ],
   "source": [
    "# AGREGAR UN ELEMENTO A UNA LISTA DE UNA DIMENSIÓN \n",
    "\n",
    "m1.append(\"octubre\")\n",
    "m1"
   ]
  },
  {
   "cell_type": "code",
   "execution_count": 13,
   "id": "d5eb269e-86ef-44ef-9a0a-26da9db6c6d6",
   "metadata": {},
   "outputs": [
    {
     "data": {
      "text/plain": [
       "['andres', 18, False, 'mayo']"
      ]
     },
     "execution_count": 13,
     "metadata": {},
     "output_type": "execute_result"
    }
   ],
   "source": [
    "# AGREGAR UN ELEMENTO A UNA LISTA DE UNA DIMENSIÓN \n",
    "\n",
    "h1.append(\"mayo\")\n",
    "h1"
   ]
  },
  {
   "cell_type": "code",
   "execution_count": 14,
   "id": "ca76dfd6-aee7-44c3-84bf-396966450b65",
   "metadata": {},
   "outputs": [
    {
     "data": {
      "text/plain": [
       "['julian', 25, False, 'mayo']"
      ]
     },
     "execution_count": 14,
     "metadata": {},
     "output_type": "execute_result"
    }
   ],
   "source": [
    "# AGREGAR UN ELEMENTO A UNA LISTA DE UNA DIMENSIÓN \n",
    "\n",
    "h2.append(\"mayo\")\n",
    "h2"
   ]
  },
  {
   "cell_type": "code",
   "execution_count": 15,
   "id": "84259485-12e7-4b0b-a699-5215056399a4",
   "metadata": {},
   "outputs": [
    {
     "data": {
      "text/plain": [
       "['katherine', 33, False, 'mayo']"
      ]
     },
     "execution_count": 15,
     "metadata": {},
     "output_type": "execute_result"
    }
   ],
   "source": [
    "# AGREGAR UN ELEMENTO A UNA LISTA DE UNA DIMENSIÓN \n",
    "\n",
    "h3.append(\"mayo\")\n",
    "h3"
   ]
  },
  {
   "cell_type": "code",
   "execution_count": 16,
   "id": "21066f06-cd7f-4012-973f-f33f19191990",
   "metadata": {},
   "outputs": [
    {
     "data": {
      "text/plain": [
       "['andres', 18, False]"
      ]
     },
     "execution_count": 16,
     "metadata": {},
     "output_type": "execute_result"
    }
   ],
   "source": [
    "# REMOVER UN ELEMENTO A UNA LISTA DE UNA DIMENSIÓN \n",
    "\n",
    "h1.remove(\"mayo\")\n",
    "h1"
   ]
  },
  {
   "cell_type": "code",
   "execution_count": 17,
   "id": "0eea9045-226e-4288-8dc2-4ae53ccf59e1",
   "metadata": {},
   "outputs": [
    {
     "data": {
      "text/plain": [
       "[['maria', 54, False, 'octubre'],\n",
       " ['jairo', 54, True, 'Julio'],\n",
       " ['andres', 18, False],\n",
       " ['julian', 25, False, 'mayo'],\n",
       " ['katherine', 33, False, 'mayo']]"
      ]
     },
     "execution_count": 17,
     "metadata": {},
     "output_type": "execute_result"
    }
   ],
   "source": [
    "# VER LA LISTA ACTUAL\n",
    "\n",
    "lista_familia"
   ]
  },
  {
   "cell_type": "code",
   "execution_count": 18,
   "id": "7465cbcc-4b9d-484a-8864-4f28195b428c",
   "metadata": {},
   "outputs": [],
   "source": [
    "# IMPORTAR LIBRERÍA PANDAS PARA PASAR LAS LISTAS A UN DATAFRAME\n",
    "\n",
    "import pandas as pd"
   ]
  },
  {
   "cell_type": "code",
   "execution_count": 19,
   "id": "6cdceba2-3213-4db2-aa53-ac432dca4e0d",
   "metadata": {},
   "outputs": [
    {
     "data": {
      "text/html": [
       "<div>\n",
       "<style scoped>\n",
       "    .dataframe tbody tr th:only-of-type {\n",
       "        vertical-align: middle;\n",
       "    }\n",
       "\n",
       "    .dataframe tbody tr th {\n",
       "        vertical-align: top;\n",
       "    }\n",
       "\n",
       "    .dataframe thead th {\n",
       "        text-align: right;\n",
       "    }\n",
       "</style>\n",
       "<table border=\"1\" class=\"dataframe\">\n",
       "  <thead>\n",
       "    <tr style=\"text-align: right;\">\n",
       "      <th></th>\n",
       "      <th>Nombre</th>\n",
       "      <th>Edad</th>\n",
       "      <th>Es padre</th>\n",
       "      <th>Mes de cumpleaños</th>\n",
       "    </tr>\n",
       "  </thead>\n",
       "  <tbody>\n",
       "    <tr>\n",
       "      <th>0</th>\n",
       "      <td>maria</td>\n",
       "      <td>54</td>\n",
       "      <td>False</td>\n",
       "      <td>octubre</td>\n",
       "    </tr>\n",
       "    <tr>\n",
       "      <th>1</th>\n",
       "      <td>jairo</td>\n",
       "      <td>54</td>\n",
       "      <td>True</td>\n",
       "      <td>Julio</td>\n",
       "    </tr>\n",
       "    <tr>\n",
       "      <th>2</th>\n",
       "      <td>andres</td>\n",
       "      <td>18</td>\n",
       "      <td>False</td>\n",
       "      <td>None</td>\n",
       "    </tr>\n",
       "    <tr>\n",
       "      <th>3</th>\n",
       "      <td>julian</td>\n",
       "      <td>25</td>\n",
       "      <td>False</td>\n",
       "      <td>mayo</td>\n",
       "    </tr>\n",
       "    <tr>\n",
       "      <th>4</th>\n",
       "      <td>katherine</td>\n",
       "      <td>33</td>\n",
       "      <td>False</td>\n",
       "      <td>mayo</td>\n",
       "    </tr>\n",
       "  </tbody>\n",
       "</table>\n",
       "</div>"
      ],
      "text/plain": [
       "      Nombre  Edad  Es padre Mes de cumpleaños\n",
       "0      maria    54     False           octubre\n",
       "1      jairo    54      True             Julio\n",
       "2     andres    18     False              None\n",
       "3     julian    25     False              mayo\n",
       "4  katherine    33     False              mayo"
      ]
     },
     "execution_count": 19,
     "metadata": {},
     "output_type": "execute_result"
    }
   ],
   "source": [
    "# CREACIÓN DE DATAFRAME Y ASIGNAR NOMBRES A LAS COLUMNAS \n",
    "\n",
    "pd.DataFrame(lista_familia, columns=[\"Nombre\",\"Edad\",\"Es padre\",\"Mes de cumpleaños\"])"
   ]
  }
 ],
 "metadata": {
  "kernelspec": {
   "display_name": "Python 3 (ipykernel)",
   "language": "python",
   "name": "python3"
  },
  "language_info": {
   "codemirror_mode": {
    "name": "ipython",
    "version": 3
   },
   "file_extension": ".py",
   "mimetype": "text/x-python",
   "name": "python",
   "nbconvert_exporter": "python",
   "pygments_lexer": "ipython3",
   "version": "3.12.4"
  }
 },
 "nbformat": 4,
 "nbformat_minor": 5
}
