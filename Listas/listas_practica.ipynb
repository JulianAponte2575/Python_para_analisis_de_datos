{
 "cells": [
  {
   "cell_type": "markdown",
   "metadata": {},
   "source": [
    "# EJERCICIO DE LISTAS 2\n",
    "\n",
    "En este apartado hay una serie de ejercicios con listas para poder manipularlas y hacer diferentes operaciones"
   ]
  },
  {
   "cell_type": "code",
   "execution_count": 2,
   "metadata": {},
   "outputs": [],
   "source": [
    "# LISTA CON DIFERENTES TIPOS DE DATOS \n",
    "\n",
    "Ejemplo = [\"nombre\", 1598, True]   # CADENA, NÚMERO Y BOLEANO"
   ]
  },
  {
   "cell_type": "code",
   "execution_count": 3,
   "metadata": {},
   "outputs": [],
   "source": [
    "# DATOS DE REDES SOCIALES \n",
    "\n",
    "red_1 = [\"Facebook\",2449, True]\n",
    "red_2 = [\"Twiter\",339, False]\n",
    "red_3 = [\"Instagram\",1000, True] # NOMBRE, CANTIDAD DE USUARIOS EN MILES DE MILLONES, ¿ES DE META? \n",
    "red_4 = [\"Youtube\",2000, False]\n",
    "red_5 = [\"Linkedin\",663, False]\n",
    "red_6 = [\"WhatsApp\",1600, True]"
   ]
  },
  {
   "cell_type": "code",
   "execution_count": 4,
   "metadata": {},
   "outputs": [
    {
     "data": {
      "text/plain": [
       "1000"
      ]
     },
     "execution_count": 4,
     "metadata": {},
     "output_type": "execute_result"
    }
   ],
   "source": [
    "# SELECCIONAR ALGÚN ELEMENTO DE LA LISTA\n",
    "\n",
    "red_3[1]"
   ]
  },
  {
   "cell_type": "code",
   "execution_count": 5,
   "metadata": {},
   "outputs": [
    {
     "data": {
      "text/plain": [
       "'WhatsApp'"
      ]
     },
     "execution_count": 5,
     "metadata": {},
     "output_type": "execute_result"
    }
   ],
   "source": [
    "# SELECCIONAR EL PRIMER ELEMENTO DE LA LISTA \n",
    "\n",
    "red_6[0]"
   ]
  },
  {
   "cell_type": "code",
   "execution_count": 6,
   "metadata": {},
   "outputs": [
    {
     "data": {
      "text/plain": [
       "('Linkedin', False)"
      ]
     },
     "execution_count": 6,
     "metadata": {},
     "output_type": "execute_result"
    }
   ],
   "source": [
    "# SELECCIONAR DOS ELEMENTOS\n",
    "\n",
    "red_5[0],red_5[2]"
   ]
  },
  {
   "cell_type": "code",
   "execution_count": 7,
   "metadata": {},
   "outputs": [
    {
     "data": {
      "text/plain": [
       "['Twiter', 339]"
      ]
     },
     "execution_count": 7,
     "metadata": {},
     "output_type": "execute_result"
    }
   ],
   "source": [
    "# SELECCIONAR VARIOS ELEMENTOS SEGUIDOS\n",
    "\n",
    "red_2[0:2]"
   ]
  },
  {
   "cell_type": "code",
   "execution_count": 8,
   "metadata": {},
   "outputs": [
    {
     "data": {
      "text/plain": [
       "True"
      ]
     },
     "execution_count": 8,
     "metadata": {},
     "output_type": "execute_result"
    }
   ],
   "source": [
    "# SELECCIONAR A LA INVERSA\n",
    "\n",
    "red_3[-1]"
   ]
  },
  {
   "cell_type": "code",
   "execution_count": 9,
   "metadata": {},
   "outputs": [
    {
     "data": {
      "text/plain": [
       "['Youtube', 2000, False, 2006]"
      ]
     },
     "execution_count": 9,
     "metadata": {},
     "output_type": "execute_result"
    }
   ],
   "source": [
    "# AGREGAR UN ELEMENTO A LA LISTA \n",
    "\n",
    "red_4.append(2006)\n",
    "red_4"
   ]
  },
  {
   "cell_type": "code",
   "execution_count": 10,
   "metadata": {},
   "outputs": [
    {
     "data": {
      "text/plain": [
       "['Twiter', 339, False, 2012]"
      ]
     },
     "execution_count": 10,
     "metadata": {},
     "output_type": "execute_result"
    }
   ],
   "source": [
    "red_2.append(2012)\n",
    "red_2"
   ]
  },
  {
   "cell_type": "code",
   "execution_count": 11,
   "metadata": {},
   "outputs": [
    {
     "data": {
      "text/plain": [
       "['Facebook', 2449, True]"
      ]
     },
     "execution_count": 11,
     "metadata": {},
     "output_type": "execute_result"
    }
   ],
   "source": [
    "# ELIMINAR ELEMENTOS DE LA LISTA\n",
    "\n",
    "red_1.append(\"error\")\n",
    "red_1.remove(\"error\")\n",
    "red_1"
   ]
  },
  {
   "cell_type": "code",
   "execution_count": null,
   "metadata": {},
   "outputs": [],
   "source": []
  }
 ],
 "metadata": {
  "kernelspec": {
   "display_name": "Python 3 (ipykernel)",
   "language": "python",
   "name": "python3"
  },
  "language_info": {
   "codemirror_mode": {
    "name": "ipython",
    "version": 3
   },
   "file_extension": ".py",
   "mimetype": "text/x-python",
   "name": "python",
   "nbconvert_exporter": "python",
   "pygments_lexer": "ipython3",
   "version": "3.12.4"
  }
 },
 "nbformat": 4,
 "nbformat_minor": 4
}
