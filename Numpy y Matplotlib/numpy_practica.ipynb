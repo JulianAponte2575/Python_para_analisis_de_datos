{
 "cells": [
  {
   "cell_type": "markdown",
   "metadata": {
    "id": "ksd1aEw1rQL-"
   },
   "source": [
    "# FUNCIONES Y MÉTODOS ELEMENTALES CON NUMPY(ARRAYS)"
   ]
  },
  {
   "cell_type": "markdown",
   "metadata": {
    "id": "IzX2IF1brQMH"
   },
   "source": [
    "En el siguiente método hay diferentes operaciones y métodos con arrays. "
   ]
  },
  {
   "cell_type": "code",
   "execution_count": 3,
   "metadata": {
    "id": "-8vVwObVrQMI"
   },
   "outputs": [],
   "source": [
    "# IMPORTAR NUMPY \n",
    "\n",
    "import numpy as np"
   ]
  },
  {
   "cell_type": "code",
   "execution_count": 4,
   "metadata": {
    "id": "_ydsmdMIrQMN"
   },
   "outputs": [],
   "source": [
    "# CREAR UNA LISTA CON LOS NÚMEROS PRIMOS \n",
    "\n",
    "numeros_primos = [1,2,3,5,7,11]"
   ]
  },
  {
   "cell_type": "code",
   "execution_count": 5,
   "metadata": {
    "id": "Bm4rwo3brQMO"
   },
   "outputs": [
    {
     "data": {
      "text/plain": [
       "array([ 1,  2,  3,  5,  7, 11])"
      ]
     },
     "execution_count": 5,
     "metadata": {},
     "output_type": "execute_result"
    }
   ],
   "source": [
    "# CREAR UN ARRAY A PARTIR DE LA LISTA\n",
    "\n",
    "array_primos = np.array(numeros_primos)\n",
    "array_primos"
   ]
  },
  {
   "cell_type": "code",
   "execution_count": 6,
   "metadata": {
    "id": "T59-O0N8rQMP"
   },
   "outputs": [
    {
     "data": {
      "text/plain": [
       "array([0., 0., 0., 0., 0., 0., 0., 0., 0., 0.])"
      ]
     },
     "execution_count": 6,
     "metadata": {},
     "output_type": "execute_result"
    }
   ],
   "source": [
    "# CREAR ARRAYS CON CEROS\n",
    "\n",
    "array_zeros = np.zeros(10)\n",
    "array_zeros"
   ]
  },
  {
   "cell_type": "code",
   "execution_count": 7,
   "metadata": {},
   "outputs": [
    {
     "data": {
      "text/plain": [
       "array([1., 1., 1., 1., 1., 1., 1., 1., 1., 1.])"
      ]
     },
     "execution_count": 7,
     "metadata": {},
     "output_type": "execute_result"
    }
   ],
   "source": [
    "# ARRAY DE SOLO UNOS \n",
    "\n",
    "array_unos = np.ones(10)\n",
    "array_unos"
   ]
  },
  {
   "cell_type": "code",
   "execution_count": 8,
   "metadata": {
    "id": "2cGt3bNTrQMQ"
   },
   "outputs": [
    {
     "data": {
      "text/plain": [
       "array([0, 1, 2, 3, 4, 5, 6, 7, 8, 9])"
      ]
     },
     "execution_count": 8,
     "metadata": {},
     "output_type": "execute_result"
    }
   ],
   "source": [
    "# CREAR ARRAYS CON NUMEROS SUCECIVOS \n",
    "\n",
    "array_numeros = np.arange(10)\n",
    "array_numeros"
   ]
  },
  {
   "cell_type": "code",
   "execution_count": 9,
   "metadata": {
    "id": "jEr0JEvPrQMR"
   },
   "outputs": [
    {
     "data": {
      "text/plain": [
       "array([ 1,  3,  5,  7,  9, 11, 13, 15, 17, 19])"
      ]
     },
     "execution_count": 9,
     "metadata": {},
     "output_type": "execute_result"
    }
   ],
   "source": [
    "# ARRAY CON NUMEROS IMPARES \n",
    "\n",
    "arrays_impares=np.arange(1,20,2)\n",
    "arrays_impares"
   ]
  },
  {
   "cell_type": "code",
   "execution_count": 10,
   "metadata": {
    "id": "PMf3RtUy0UaZ"
   },
   "outputs": [
    {
     "data": {
      "text/plain": [
       "array([ 0,  2,  4,  6,  8, 10, 12, 14, 16, 18])"
      ]
     },
     "execution_count": 10,
     "metadata": {},
     "output_type": "execute_result"
    }
   ],
   "source": [
    "# ARRAY DE NUMEROS PARES\n",
    "\n",
    "arrays_pares=np.arange(0,20,2)\n",
    "arrays_pares "
   ]
  },
  {
   "cell_type": "code",
   "execution_count": 11,
   "metadata": {
    "id": "rqzV9v4VrQMS"
   },
   "outputs": [
    {
     "data": {
      "text/plain": [
       "array([[ 0,  2,  4,  6,  8],\n",
       "       [10, 12, 14, 16, 18]])"
      ]
     },
     "execution_count": 11,
     "metadata": {},
     "output_type": "execute_result"
    }
   ],
   "source": [
    "# CONVERTIR DE UNA DIMENSIÓN A DOS DIMENSIONES \n",
    "\n",
    "arrays_pares.reshape(2,5)"
   ]
  },
  {
   "cell_type": "code",
   "execution_count": 12,
   "metadata": {
    "id": "qPA2z0MbrQMV"
   },
   "outputs": [
    {
     "data": {
      "text/plain": [
       "array([ 1,  3,  5,  7,  9, 11, 13, 15, 17, 19])"
      ]
     },
     "execution_count": 12,
     "metadata": {},
     "output_type": "execute_result"
    }
   ],
   "source": [
    "# SUMAR 1 A TODOS LOS ELEMENTOS DEL ARRAY DE PARES PARA QUE AHORA SEAN IMPARES\n",
    "\n",
    "array_impares = arrays_pares + 1 \n",
    "array_impares"
   ]
  },
  {
   "cell_type": "code",
   "execution_count": 13,
   "metadata": {
    "id": "gZF1XsTvrQMW"
   },
   "outputs": [
    {
     "data": {
      "text/plain": [
       "array([ 100,  300,  500,  700,  900, 1100, 1300, 1500, 1700, 1900])"
      ]
     },
     "execution_count": 13,
     "metadata": {},
     "output_type": "execute_result"
    }
   ],
   "source": [
    "# MULTIPLICACIÓN DE LOS ARRAYS POR 100\n",
    "\n",
    "array_multiplicado = array_impares * 100\n",
    "array_multiplicado"
   ]
  },
  {
   "cell_type": "code",
   "execution_count": 14,
   "metadata": {
    "id": "fIRl55TvrQMX"
   },
   "outputs": [
    {
     "data": {
      "text/plain": [
       "array([1, 1, 1, 1, 1, 1, 1, 1, 1, 1])"
      ]
     },
     "execution_count": 14,
     "metadata": {},
     "output_type": "execute_result"
    }
   ],
   "source": [
    "# RESTA ENTREDOS ARRAYS\n",
    "\n",
    "array_impares - arrays_pares"
   ]
  },
  {
   "cell_type": "code",
   "execution_count": 15,
   "metadata": {
    "id": "YvHgL2bYrQMY"
   },
   "outputs": [
    {
     "data": {
      "text/plain": [
       "29"
      ]
     },
     "execution_count": 15,
     "metadata": {},
     "output_type": "execute_result"
    }
   ],
   "source": [
    "# SUMA DE TODOS LOS ELEMENTOS DEL ARRAY\n",
    "\n",
    "array_primos.sum()"
   ]
  },
  {
   "cell_type": "code",
   "execution_count": 16,
   "metadata": {
    "id": "HkuxM8S2rQMZ"
   },
   "outputs": [
    {
     "data": {
      "text/plain": [
       "4.833333333333333"
      ]
     },
     "execution_count": 16,
     "metadata": {},
     "output_type": "execute_result"
    }
   ],
   "source": [
    "# PROMEDIO DE LOS OBJETOS DEL ARRAY \n",
    "\n",
    "array_primos.mean()"
   ]
  },
  {
   "cell_type": "code",
   "execution_count": 17,
   "metadata": {
    "id": "Ar4AkEcVrQMa"
   },
   "outputs": [
    {
     "data": {
      "text/plain": [
       "11.472222222222223"
      ]
     },
     "execution_count": 17,
     "metadata": {},
     "output_type": "execute_result"
    }
   ],
   "source": [
    "# VARIANZA DE LOS OBJETOS DEL ARRAY\n",
    "\n",
    "array_primos.var()"
   ]
  },
  {
   "cell_type": "code",
   "execution_count": 18,
   "metadata": {
    "id": "a27BAGu1rQMa"
   },
   "outputs": [
    {
     "data": {
      "text/plain": [
       "array([  0,   1,   1,   2,   3,   5,   8,  13,  21,  34,  55,  89, 144,\n",
       "       222])"
      ]
     },
     "execution_count": 18,
     "metadata": {},
     "output_type": "execute_result"
    }
   ],
   "source": [
    "# ORDENAR UN ARRAY\n",
    "\n",
    "array_fibonacci = np.array([55,0,144,1,21,89,5,8,13,1,34,3,2,222])\n",
    "fibonacci_ordenado = np.sort(array_fibonacci)\n",
    "fibonacci_ordenado"
   ]
  },
  {
   "cell_type": "code",
   "execution_count": 19,
   "metadata": {
    "id": "Y6g5br--rQMb"
   },
   "outputs": [
    {
     "data": {
      "text/plain": [
       "array([222, 144,  89,  55,  34,  21,  13,   8,   5,   3,   2,   1,   1,\n",
       "         0])"
      ]
     },
     "execution_count": 19,
     "metadata": {},
     "output_type": "execute_result"
    }
   ],
   "source": [
    "# ORDEN DESENDENTE \n",
    "\n",
    "-np.sort(-array_fibonacci)"
   ]
  },
  {
   "cell_type": "code",
   "execution_count": 20,
   "metadata": {
    "id": "EaWFAX_PrQMc"
   },
   "outputs": [
    {
     "data": {
      "text/plain": [
       "21"
      ]
     },
     "execution_count": 20,
     "metadata": {},
     "output_type": "execute_result"
    }
   ],
   "source": [
    "# SELECCIONAR UN ALEMENTO\n",
    "\n",
    "fibonacci_ordenado[8]"
   ]
  },
  {
   "cell_type": "code",
   "execution_count": 21,
   "metadata": {
    "id": "IpW5T8EUrQMd"
   },
   "outputs": [
    {
     "data": {
      "text/plain": [
       "array([ 3,  5,  8, 13])"
      ]
     },
     "execution_count": 21,
     "metadata": {},
     "output_type": "execute_result"
    }
   ],
   "source": [
    "# SELECCIONAR VARIOS ELEMENTOS \n",
    "\n",
    "fibonacci_ordenado[4:8]"
   ]
  },
  {
   "cell_type": "code",
   "execution_count": 22,
   "metadata": {
    "id": "cML-ZhlNrQMd"
   },
   "outputs": [
    {
     "data": {
      "text/plain": [
       "0"
      ]
     },
     "execution_count": 22,
     "metadata": {},
     "output_type": "execute_result"
    }
   ],
   "source": [
    "# SELECCIONAR EL PRIMER ELEMENTO DE UN ARRAY DE MÁS DE UNA DIMENSIÓN\n",
    "\n",
    "fibonacci_dos_dimensiones = fibonacci_ordenado.reshape(2,7)\n",
    "fibonacci_dos_dimensiones[0,0]"
   ]
  },
  {
   "cell_type": "code",
   "execution_count": 23,
   "metadata": {},
   "outputs": [
    {
     "data": {
      "text/plain": [
       "array([[  0,   1,   1,   2,   3,   5,   8],\n",
       "       [ 13,  21,  34,  55,  89, 144, 222]])"
      ]
     },
     "execution_count": 23,
     "metadata": {},
     "output_type": "execute_result"
    }
   ],
   "source": [
    "fibonacci_dos_dimensiones"
   ]
  },
  {
   "cell_type": "code",
   "execution_count": 24,
   "metadata": {
    "id": "Sn1J9BvbrQMe"
   },
   "outputs": [
    {
     "data": {
      "text/plain": [
       "55"
      ]
     },
     "execution_count": 24,
     "metadata": {},
     "output_type": "execute_result"
    }
   ],
   "source": [
    "# SELECCIONAR EL PRIMER CUARTO ELEMENTO DE LA SEGUNDA FILA\n",
    "\n",
    "fibonacci_dos_dimensiones[1,3]"
   ]
  },
  {
   "cell_type": "code",
   "execution_count": 25,
   "metadata": {
    "id": "UCBYasGjrQMe"
   },
   "outputs": [
    {
     "data": {
      "text/plain": [
       "(1, 89)"
      ]
     },
     "execution_count": 25,
     "metadata": {},
     "output_type": "execute_result"
    }
   ],
   "source": [
    "# SELECCIONAR VARIOS ELEMENTOS\n",
    "\n",
    "fibonacci_dos_dimensiones[0,2],fibonacci_dos_dimensiones[1,4]"
   ]
  },
  {
   "cell_type": "code",
   "execution_count": 26,
   "metadata": {
    "id": "_OtSuP9CrQMe"
   },
   "outputs": [
    {
     "data": {
      "text/plain": [
       "array([ 13,  21,  34,  55,  89, 144, 222])"
      ]
     },
     "execution_count": 26,
     "metadata": {},
     "output_type": "execute_result"
    }
   ],
   "source": [
    "# SELECCIONAR TODA LA FILA\n",
    "\n",
    "fibonacci_dos_dimensiones[1,:]"
   ]
  },
  {
   "cell_type": "code",
   "execution_count": 27,
   "metadata": {
    "id": "kTOEP92VrQMf"
   },
   "outputs": [
    {
     "data": {
      "text/plain": [
       "array([ 2, 55])"
      ]
     },
     "execution_count": 27,
     "metadata": {},
     "output_type": "execute_result"
    }
   ],
   "source": [
    "# SELECCIONAR TODA LA COLUMNA \n",
    "\n",
    "fibonacci_dos_dimensiones[:,3]"
   ]
  },
  {
   "cell_type": "code",
   "execution_count": 28,
   "metadata": {},
   "outputs": [
    {
     "data": {
      "text/plain": [
       "array([ 55,   0, 144,   1,  21,  89,   5,   8,  13,   1,  34,   3,   2,\n",
       "       222])"
      ]
     },
     "execution_count": 28,
     "metadata": {},
     "output_type": "execute_result"
    }
   ],
   "source": [
    "array_fibonacci"
   ]
  },
  {
   "cell_type": "code",
   "execution_count": 29,
   "metadata": {
    "id": "fvdmT-EYrQMg"
   },
   "outputs": [
    {
     "data": {
      "text/plain": [
       "array([False,  True, False,  True,  True, False,  True,  True,  True,\n",
       "        True, False,  True,  True, False])"
      ]
     },
     "execution_count": 29,
     "metadata": {},
     "output_type": "execute_result"
    }
   ],
   "source": [
    "# MOSTRARLOS MENORES A 34 EN BOLEANO\n",
    "\n",
    "array_fibonacci<34"
   ]
  },
  {
   "cell_type": "code",
   "execution_count": 30,
   "metadata": {
    "id": "xiURU5PwrQMh"
   },
   "outputs": [
    {
     "data": {
      "text/plain": [
       "array([ 0,  1, 21,  5,  8, 13,  1,  3,  2])"
      ]
     },
     "execution_count": 30,
     "metadata": {},
     "output_type": "execute_result"
    }
   ],
   "source": [
    "# MOSTRARLOS MENORES A 34\n",
    "\n",
    "array_fibonacci[array_fibonacci < 34]"
   ]
  }
 ],
 "metadata": {
  "colab": {
   "provenance": []
  },
  "kernelspec": {
   "display_name": "Python 3 (ipykernel)",
   "language": "python",
   "name": "python3"
  },
  "language_info": {
   "codemirror_mode": {
    "name": "ipython",
    "version": 3
   },
   "file_extension": ".py",
   "mimetype": "text/x-python",
   "name": "python",
   "nbconvert_exporter": "python",
   "pygments_lexer": "ipython3",
   "version": "3.12.4"
  }
 },
 "nbformat": 4,
 "nbformat_minor": 4
}
