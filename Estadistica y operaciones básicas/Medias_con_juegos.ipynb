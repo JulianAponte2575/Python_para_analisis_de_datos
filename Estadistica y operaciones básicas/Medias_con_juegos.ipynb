{
 "cells": [
  {
   "cell_type": "markdown",
   "id": "89a03b51-9eb7-49a3-ab47-2826e2ecefca",
   "metadata": {},
   "source": [
    "## EJERCICIO DE MEDIAS CON DATASET DE VIDEOJUEGOS\n",
    "\n",
    "Se van a trabajar medias o promedios con el dataset de kaggle de videojuegos donde se ubiará al final en un dataframe."
   ]
  },
  {
   "cell_type": "code",
   "execution_count": 4,
   "id": "b0b2ce5d-940e-47b2-99f9-46dc5f2041df",
   "metadata": {},
   "outputs": [],
   "source": [
    "# IMPORTAR LIBRERÍAS \n",
    "\n",
    "import pandas as pd"
   ]
  },
  {
   "cell_type": "code",
   "execution_count": 6,
   "id": "8b791851-078f-4033-a2e7-f35830fba5e0",
   "metadata": {},
   "outputs": [],
   "source": [
    "# DEFINICIÓN DE LA RUTA DEL ARCHIVO \n",
    "\n",
    "ruta = \"C:/Users/Julian/Documents/Ejecicios del botcamp/Ventas_Videojuegos.xlsx\""
   ]
  },
  {
   "cell_type": "code",
   "execution_count": 8,
   "id": "d478b2b9-79e9-438d-b701-5bb2c9d5e3af",
   "metadata": {},
   "outputs": [
    {
     "data": {
      "text/html": [
       "<div>\n",
       "<style scoped>\n",
       "    .dataframe tbody tr th:only-of-type {\n",
       "        vertical-align: middle;\n",
       "    }\n",
       "\n",
       "    .dataframe tbody tr th {\n",
       "        vertical-align: top;\n",
       "    }\n",
       "\n",
       "    .dataframe thead th {\n",
       "        text-align: right;\n",
       "    }\n",
       "</style>\n",
       "<table border=\"1\" class=\"dataframe\">\n",
       "  <thead>\n",
       "    <tr style=\"text-align: right;\">\n",
       "      <th></th>\n",
       "      <th>Nombre</th>\n",
       "      <th>Plataforma</th>\n",
       "      <th>Año</th>\n",
       "      <th>Genero</th>\n",
       "      <th>Editorial</th>\n",
       "      <th>Ventas NA</th>\n",
       "      <th>Ventas EU</th>\n",
       "      <th>Ventas JP</th>\n",
       "      <th>Ventas Otros</th>\n",
       "      <th>Ventas Global</th>\n",
       "    </tr>\n",
       "  </thead>\n",
       "  <tbody>\n",
       "    <tr>\n",
       "      <th>0</th>\n",
       "      <td>Wii Sports</td>\n",
       "      <td>Wii</td>\n",
       "      <td>2006</td>\n",
       "      <td>Sports</td>\n",
       "      <td>Nintendo</td>\n",
       "      <td>41.49</td>\n",
       "      <td>29.02</td>\n",
       "      <td>3.77</td>\n",
       "      <td>8.46</td>\n",
       "      <td>82.74</td>\n",
       "    </tr>\n",
       "    <tr>\n",
       "      <th>1</th>\n",
       "      <td>Super Mario Bros.</td>\n",
       "      <td>NES</td>\n",
       "      <td>1985</td>\n",
       "      <td>Platform</td>\n",
       "      <td>Nintendo</td>\n",
       "      <td>29.08</td>\n",
       "      <td>3.58</td>\n",
       "      <td>6.81</td>\n",
       "      <td>0.77</td>\n",
       "      <td>40.24</td>\n",
       "    </tr>\n",
       "    <tr>\n",
       "      <th>2</th>\n",
       "      <td>Mario Kart Wii</td>\n",
       "      <td>Wii</td>\n",
       "      <td>2008</td>\n",
       "      <td>Racing</td>\n",
       "      <td>Nintendo</td>\n",
       "      <td>15.85</td>\n",
       "      <td>12.88</td>\n",
       "      <td>3.79</td>\n",
       "      <td>3.31</td>\n",
       "      <td>35.82</td>\n",
       "    </tr>\n",
       "    <tr>\n",
       "      <th>3</th>\n",
       "      <td>Wii Sports Resort</td>\n",
       "      <td>Wii</td>\n",
       "      <td>2009</td>\n",
       "      <td>Sports</td>\n",
       "      <td>Nintendo</td>\n",
       "      <td>15.75</td>\n",
       "      <td>11.01</td>\n",
       "      <td>3.28</td>\n",
       "      <td>2.96</td>\n",
       "      <td>33.00</td>\n",
       "    </tr>\n",
       "    <tr>\n",
       "      <th>4</th>\n",
       "      <td>Pokemon Red/Pokemon Blue</td>\n",
       "      <td>GB</td>\n",
       "      <td>1996</td>\n",
       "      <td>Role-Playing</td>\n",
       "      <td>Nintendo</td>\n",
       "      <td>11.27</td>\n",
       "      <td>8.89</td>\n",
       "      <td>10.22</td>\n",
       "      <td>1.00</td>\n",
       "      <td>31.37</td>\n",
       "    </tr>\n",
       "    <tr>\n",
       "      <th>...</th>\n",
       "      <td>...</td>\n",
       "      <td>...</td>\n",
       "      <td>...</td>\n",
       "      <td>...</td>\n",
       "      <td>...</td>\n",
       "      <td>...</td>\n",
       "      <td>...</td>\n",
       "      <td>...</td>\n",
       "      <td>...</td>\n",
       "      <td>...</td>\n",
       "    </tr>\n",
       "    <tr>\n",
       "      <th>16321</th>\n",
       "      <td>Farming 2017 - The Simulation</td>\n",
       "      <td>PS4</td>\n",
       "      <td>2016</td>\n",
       "      <td>Simulation</td>\n",
       "      <td>UIG Entertainment</td>\n",
       "      <td>0.00</td>\n",
       "      <td>0.01</td>\n",
       "      <td>0.00</td>\n",
       "      <td>0.00</td>\n",
       "      <td>0.01</td>\n",
       "    </tr>\n",
       "    <tr>\n",
       "      <th>16322</th>\n",
       "      <td>Rugby Challenge 3</td>\n",
       "      <td>XOne</td>\n",
       "      <td>2016</td>\n",
       "      <td>Sports</td>\n",
       "      <td>Alternative Software</td>\n",
       "      <td>0.00</td>\n",
       "      <td>0.01</td>\n",
       "      <td>0.00</td>\n",
       "      <td>0.00</td>\n",
       "      <td>0.01</td>\n",
       "    </tr>\n",
       "    <tr>\n",
       "      <th>16323</th>\n",
       "      <td>Chou Ezaru wa Akai Hana: Koi wa Tsuki ni Shiru...</td>\n",
       "      <td>PSV</td>\n",
       "      <td>2016</td>\n",
       "      <td>Action</td>\n",
       "      <td>dramatic create</td>\n",
       "      <td>0.00</td>\n",
       "      <td>0.00</td>\n",
       "      <td>0.01</td>\n",
       "      <td>0.00</td>\n",
       "      <td>0.01</td>\n",
       "    </tr>\n",
       "    <tr>\n",
       "      <th>16324</th>\n",
       "      <td>Phantasy Star Online 2 Episode 4: Deluxe Package</td>\n",
       "      <td>PSV</td>\n",
       "      <td>2017</td>\n",
       "      <td>Role-Playing</td>\n",
       "      <td>Sega</td>\n",
       "      <td>0.00</td>\n",
       "      <td>0.00</td>\n",
       "      <td>0.01</td>\n",
       "      <td>0.00</td>\n",
       "      <td>0.01</td>\n",
       "    </tr>\n",
       "    <tr>\n",
       "      <th>16325</th>\n",
       "      <td>Brothers Conflict: Precious Baby</td>\n",
       "      <td>PSV</td>\n",
       "      <td>2017</td>\n",
       "      <td>Action</td>\n",
       "      <td>Idea Factory</td>\n",
       "      <td>0.00</td>\n",
       "      <td>0.00</td>\n",
       "      <td>0.01</td>\n",
       "      <td>0.00</td>\n",
       "      <td>0.01</td>\n",
       "    </tr>\n",
       "  </tbody>\n",
       "</table>\n",
       "<p>16326 rows × 10 columns</p>\n",
       "</div>"
      ],
      "text/plain": [
       "                                                  Nombre Plataforma   Año  \\\n",
       "0                                             Wii Sports        Wii  2006   \n",
       "1                                      Super Mario Bros.        NES  1985   \n",
       "2                                         Mario Kart Wii        Wii  2008   \n",
       "3                                      Wii Sports Resort        Wii  2009   \n",
       "4                               Pokemon Red/Pokemon Blue         GB  1996   \n",
       "...                                                  ...        ...   ...   \n",
       "16321                      Farming 2017 - The Simulation        PS4  2016   \n",
       "16322                                  Rugby Challenge 3       XOne  2016   \n",
       "16323  Chou Ezaru wa Akai Hana: Koi wa Tsuki ni Shiru...        PSV  2016   \n",
       "16324   Phantasy Star Online 2 Episode 4: Deluxe Package        PSV  2017   \n",
       "16325                   Brothers Conflict: Precious Baby        PSV  2017   \n",
       "\n",
       "             Genero             Editorial  Ventas NA  Ventas EU  Ventas JP  \\\n",
       "0            Sports              Nintendo      41.49      29.02       3.77   \n",
       "1          Platform              Nintendo      29.08       3.58       6.81   \n",
       "2            Racing              Nintendo      15.85      12.88       3.79   \n",
       "3            Sports              Nintendo      15.75      11.01       3.28   \n",
       "4      Role-Playing              Nintendo      11.27       8.89      10.22   \n",
       "...             ...                   ...        ...        ...        ...   \n",
       "16321    Simulation     UIG Entertainment       0.00       0.01       0.00   \n",
       "16322        Sports  Alternative Software       0.00       0.01       0.00   \n",
       "16323        Action       dramatic create       0.00       0.00       0.01   \n",
       "16324  Role-Playing                  Sega       0.00       0.00       0.01   \n",
       "16325        Action          Idea Factory       0.00       0.00       0.01   \n",
       "\n",
       "       Ventas Otros  Ventas Global  \n",
       "0              8.46          82.74  \n",
       "1              0.77          40.24  \n",
       "2              3.31          35.82  \n",
       "3              2.96          33.00  \n",
       "4              1.00          31.37  \n",
       "...             ...            ...  \n",
       "16321          0.00           0.01  \n",
       "16322          0.00           0.01  \n",
       "16323          0.00           0.01  \n",
       "16324          0.00           0.01  \n",
       "16325          0.00           0.01  \n",
       "\n",
       "[16326 rows x 10 columns]"
      ]
     },
     "execution_count": 8,
     "metadata": {},
     "output_type": "execute_result"
    }
   ],
   "source": [
    "# LECTURA DEL ARCHIVO PARA CREAR EL DATAFRAME\n",
    "\n",
    "juegos = pd.read_excel(ruta)\n",
    "juegos"
   ]
  },
  {
   "cell_type": "code",
   "execution_count": 23,
   "id": "3cffcb69-423e-4774-9acf-76da1d17253f",
   "metadata": {},
   "outputs": [
    {
     "data": {
      "text/plain": [
       "0.27"
      ]
     },
     "execution_count": 23,
     "metadata": {},
     "output_type": "execute_result"
    }
   ],
   "source": [
    "# PROMEDIO VENTAS EN NORTEAMERICA\n",
    "\n",
    "promedio_ventas_NA = juegos[\"Ventas NA\"].mean().round(2)\n",
    "promedio_ventas_NA"
   ]
  },
  {
   "cell_type": "code",
   "execution_count": 25,
   "id": "412a2e4a-f56e-406d-a9e7-5f816a74442a",
   "metadata": {},
   "outputs": [
    {
     "data": {
      "text/plain": [
       "0.15"
      ]
     },
     "execution_count": 25,
     "metadata": {},
     "output_type": "execute_result"
    }
   ],
   "source": [
    "# PROMEDIO VENTAS EN EUROPA\n",
    "\n",
    "promedio_ventas_EU = juegos[\"Ventas EU\"].mean().round(2)\n",
    "promedio_ventas_EU"
   ]
  },
  {
   "cell_type": "code",
   "execution_count": 27,
   "id": "9699f74a-3fa3-4aa6-a74e-20fb09de974f",
   "metadata": {},
   "outputs": [
    {
     "data": {
      "text/plain": [
       "0.08"
      ]
     },
     "execution_count": 27,
     "metadata": {},
     "output_type": "execute_result"
    }
   ],
   "source": [
    "# PROMEDIO VENTAS JAPON\n",
    "\n",
    "promedio_ventas_JP = juegos[\"Ventas JP\"].mean().round(2)\n",
    "promedio_ventas_JP"
   ]
  },
  {
   "cell_type": "code",
   "execution_count": 29,
   "id": "3bf9f9da-40fb-43f1-bb27-f04a92c5bb51",
   "metadata": {},
   "outputs": [
    {
     "data": {
      "text/plain": [
       "0.05"
      ]
     },
     "execution_count": 29,
     "metadata": {},
     "output_type": "execute_result"
    }
   ],
   "source": [
    "# PROMEDIO VENTAS OTROS PAISES\n",
    "\n",
    "promedio_ventas_otros = juegos[\"Ventas Otros\"].mean().round(2)\n",
    "promedio_ventas_otros"
   ]
  },
  {
   "cell_type": "code",
   "execution_count": 31,
   "id": "7171a981-1f3a-4806-b5a6-8a6a268d54ba",
   "metadata": {},
   "outputs": [
    {
     "data": {
      "text/plain": [
       "0.54"
      ]
     },
     "execution_count": 31,
     "metadata": {},
     "output_type": "execute_result"
    }
   ],
   "source": [
    "# PROMEDIO VENTAS GLOBAL\n",
    "\n",
    "promedio_ventas_global = juegos[\"Ventas Global\"].mean().round(2)\n",
    "promedio_ventas_global"
   ]
  },
  {
   "cell_type": "code",
   "execution_count": 35,
   "id": "c0a3fcc4-1076-4645-ba38-8be92c95c907",
   "metadata": {},
   "outputs": [
    {
     "data": {
      "text/html": [
       "<div>\n",
       "<style scoped>\n",
       "    .dataframe tbody tr th:only-of-type {\n",
       "        vertical-align: middle;\n",
       "    }\n",
       "\n",
       "    .dataframe tbody tr th {\n",
       "        vertical-align: top;\n",
       "    }\n",
       "\n",
       "    .dataframe thead th {\n",
       "        text-align: right;\n",
       "    }\n",
       "</style>\n",
       "<table border=\"1\" class=\"dataframe\">\n",
       "  <thead>\n",
       "    <tr style=\"text-align: right;\">\n",
       "      <th></th>\n",
       "      <th>UBICACIÓN</th>\n",
       "      <th>PROMEDIO</th>\n",
       "    </tr>\n",
       "  </thead>\n",
       "  <tbody>\n",
       "    <tr>\n",
       "      <th>0</th>\n",
       "      <td>Norteamerica</td>\n",
       "      <td>0.27</td>\n",
       "    </tr>\n",
       "    <tr>\n",
       "      <th>1</th>\n",
       "      <td>Europa</td>\n",
       "      <td>0.15</td>\n",
       "    </tr>\n",
       "    <tr>\n",
       "      <th>2</th>\n",
       "      <td>Japon</td>\n",
       "      <td>0.08</td>\n",
       "    </tr>\n",
       "    <tr>\n",
       "      <th>3</th>\n",
       "      <td>Otros</td>\n",
       "      <td>0.05</td>\n",
       "    </tr>\n",
       "    <tr>\n",
       "      <th>4</th>\n",
       "      <td>Global</td>\n",
       "      <td>0.54</td>\n",
       "    </tr>\n",
       "  </tbody>\n",
       "</table>\n",
       "</div>"
      ],
      "text/plain": [
       "      UBICACIÓN  PROMEDIO\n",
       "0  Norteamerica      0.27\n",
       "1        Europa      0.15\n",
       "2         Japon      0.08\n",
       "3         Otros      0.05\n",
       "4        Global      0.54"
      ]
     },
     "execution_count": 35,
     "metadata": {},
     "output_type": "execute_result"
    }
   ],
   "source": [
    "# CREACIÓN DEL DATAFRAME CON LOS PROMEDIOS \n",
    "\n",
    "promedios = {\"UBICACIÓN\": [\"Norteamerica\",\"Europa\",\"Japon\",\"Otros\",\"Global\"],\n",
    "             \"PROMEDIO\": [promedio_ventas_NA, promedio_ventas_EU, promedio_ventas_JP, promedio_ventas_otros, promedio_ventas_global]}\n",
    "\n",
    "df = pd.DataFrame(promedios)\n",
    "df"
   ]
  }
 ],
 "metadata": {
  "kernelspec": {
   "display_name": "Python 3 (ipykernel)",
   "language": "python",
   "name": "python3"
  },
  "language_info": {
   "codemirror_mode": {
    "name": "ipython",
    "version": 3
   },
   "file_extension": ".py",
   "mimetype": "text/x-python",
   "name": "python",
   "nbconvert_exporter": "python",
   "pygments_lexer": "ipython3",
   "version": "3.12.4"
  }
 },
 "nbformat": 4,
 "nbformat_minor": 5
}
