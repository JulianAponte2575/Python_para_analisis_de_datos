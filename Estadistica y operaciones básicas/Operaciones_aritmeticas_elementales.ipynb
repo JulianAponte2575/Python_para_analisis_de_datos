{
 "cells": [
  {
   "cell_type": "markdown",
   "id": "0db3df35-aa2f-44db-8856-e96303b6332b",
   "metadata": {},
   "source": [
    "# OPERACIONES BÁSICAS ELEMENTALES CON PYTHON"
   ]
  },
  {
   "cell_type": "markdown",
   "id": "c4bab806-674a-4728-86ad-4b38ce41c96b",
   "metadata": {},
   "source": [
    "Pequeños ejercicios para entender la lógica de Python"
   ]
  },
  {
   "cell_type": "code",
   "execution_count": 2,
   "id": "84fcebad-dd17-4772-9cd5-2c5baca16cfb",
   "metadata": {},
   "outputs": [],
   "source": [
    "# DECLARACIÓN DE DOS VARIABLES CON DOS NÚMEROS AL AZAR  \n",
    "\n",
    "a = 5\n",
    "b = 3"
   ]
  },
  {
   "cell_type": "code",
   "execution_count": 3,
   "id": "4fb7a60c-16e0-4a6b-895b-6648853585bf",
   "metadata": {},
   "outputs": [
    {
     "data": {
      "text/plain": [
       "8"
      ]
     },
     "execution_count": 3,
     "metadata": {},
     "output_type": "execute_result"
    }
   ],
   "source": [
    "# SUMA\n",
    "\n",
    "a + b"
   ]
  },
  {
   "cell_type": "code",
   "execution_count": 4,
   "id": "cb6861d3-7426-4488-ab19-f26f7bec6c37",
   "metadata": {},
   "outputs": [
    {
     "data": {
      "text/plain": [
       "2"
      ]
     },
     "execution_count": 4,
     "metadata": {},
     "output_type": "execute_result"
    }
   ],
   "source": [
    "# RESTA\n",
    "\n",
    "a - b "
   ]
  },
  {
   "cell_type": "code",
   "execution_count": 5,
   "id": "7de537e4-4b91-4689-afcd-e058a99398a1",
   "metadata": {},
   "outputs": [
    {
     "data": {
      "text/plain": [
       "15"
      ]
     },
     "execution_count": 5,
     "metadata": {},
     "output_type": "execute_result"
    }
   ],
   "source": [
    "# MULTIPLICACIÓN \n",
    "\n",
    "a * b"
   ]
  },
  {
   "cell_type": "code",
   "execution_count": 6,
   "id": "f980c0ec-d05d-4365-a329-2e08f6e98eb8",
   "metadata": {},
   "outputs": [
    {
     "data": {
      "text/plain": [
       "1.6666666666666667"
      ]
     },
     "execution_count": 6,
     "metadata": {},
     "output_type": "execute_result"
    }
   ],
   "source": [
    "# DIVISIÓN \n",
    "\n",
    "a / b"
   ]
  },
  {
   "cell_type": "markdown",
   "id": "57bb4163-1efe-4bc1-ac84-d1000762161b",
   "metadata": {},
   "source": [
    "#### OPERACIONES COMPLEJAS COMO LA RAIZ CUADRADA"
   ]
  },
  {
   "cell_type": "code",
   "execution_count": 8,
   "id": "55fd10c9-cac0-451a-81e5-1d7a60bce9bb",
   "metadata": {},
   "outputs": [],
   "source": [
    "# IMPORTACIÓN DE LIBRERIA DE MATEMATICAS\n",
    "\n",
    "import math"
   ]
  },
  {
   "cell_type": "code",
   "execution_count": 9,
   "id": "7ec6255f-6fa0-4feb-8466-06c6ce226645",
   "metadata": {},
   "outputs": [
    {
     "data": {
      "text/plain": [
       "4.0"
      ]
     },
     "execution_count": 9,
     "metadata": {},
     "output_type": "execute_result"
    }
   ],
   "source": [
    "# RAIZ CUADRADA DE 16\n",
    "\n",
    "math.sqrt(16)"
   ]
  }
 ],
 "metadata": {
  "kernelspec": {
   "display_name": "Python 3 (ipykernel)",
   "language": "python",
   "name": "python3"
  },
  "language_info": {
   "codemirror_mode": {
    "name": "ipython",
    "version": 3
   },
   "file_extension": ".py",
   "mimetype": "text/x-python",
   "name": "python",
   "nbconvert_exporter": "python",
   "pygments_lexer": "ipython3",
   "version": "3.12.4"
  }
 },
 "nbformat": 4,
 "nbformat_minor": 5
}
